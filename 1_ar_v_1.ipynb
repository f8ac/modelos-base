{
  "cells": [
    {
      "cell_type": "code",
      "execution_count": 1,
      "metadata": {
        "id": "0_ksTW-N0hSs"
      },
      "outputs": [
        {
          "name": "stderr",
          "output_type": "stream",
          "text": [
            "/tmp/ipykernel_104657/2501157616.py:2: DeprecationWarning: \n",
            "Pyarrow will become a required dependency of pandas in the next major release of pandas (pandas 3.0),\n",
            "(to allow more performant data types, such as the Arrow string type, and better interoperability with other libraries)\n",
            "but was not found to be installed on your system.\n",
            "If this would cause problems for you,\n",
            "please provide us feedback at https://github.com/pandas-dev/pandas/issues/54466\n",
            "        \n",
            "  import pandas as pd\n"
          ]
        }
      ],
      "source": [
        "import numpy as np\n",
        "import pandas as pd\n",
        "import matplotlib.pyplot as plt\n",
        "from sklearn.metrics import mean_squared_error\n",
        "from sklearn.model_selection import train_test_split\n",
        "from statsmodels.tsa.ar_model import AutoReg"
      ]
    },
    {
      "cell_type": "code",
      "execution_count": 2,
      "metadata": {
        "colab": {
          "base_uri": "https://localhost:8080/",
          "height": 423
        },
        "id": "cuTy9Wzb0CmX",
        "outputId": "380af154-65eb-48fb-b6c0-e3979dc48f92"
      },
      "outputs": [
        {
          "data": {
            "text/html": [
              "<div>\n",
              "<style scoped>\n",
              "    .dataframe tbody tr th:only-of-type {\n",
              "        vertical-align: middle;\n",
              "    }\n",
              "\n",
              "    .dataframe tbody tr th {\n",
              "        vertical-align: top;\n",
              "    }\n",
              "\n",
              "    .dataframe thead th {\n",
              "        text-align: right;\n",
              "    }\n",
              "</style>\n",
              "<table border=\"1\" class=\"dataframe\">\n",
              "  <thead>\n",
              "    <tr style=\"text-align: right;\">\n",
              "      <th></th>\n",
              "      <th>Date</th>\n",
              "      <th>LMCADS03</th>\n",
              "      <th>LMCADY</th>\n",
              "      <th>DXY</th>\n",
              "      <th>SPX</th>\n",
              "      <th>BCOM</th>\n",
              "      <th>MXWD</th>\n",
              "      <th>XAU</th>\n",
              "      <th>XAG</th>\n",
              "      <th>LMCADY_acu_5d_log</th>\n",
              "      <th>LMCADY_std_5d_log</th>\n",
              "    </tr>\n",
              "  </thead>\n",
              "  <tbody>\n",
              "    <tr>\n",
              "      <th>0</th>\n",
              "      <td>2003-01-02</td>\n",
              "      <td>0.019048</td>\n",
              "      <td>0.019834</td>\n",
              "      <td>0.010739</td>\n",
              "      <td>0.032661</td>\n",
              "      <td>0.025337</td>\n",
              "      <td>0.023209</td>\n",
              "      <td>-0.005763</td>\n",
              "      <td>0.007918</td>\n",
              "      <td>0.040542</td>\n",
              "      <td>0.007181</td>\n",
              "    </tr>\n",
              "    <tr>\n",
              "      <th>1</th>\n",
              "      <td>2003-01-03</td>\n",
              "      <td>0.013121</td>\n",
              "      <td>0.013478</td>\n",
              "      <td>-0.004965</td>\n",
              "      <td>-0.000484</td>\n",
              "      <td>0.014288</td>\n",
              "      <td>0.003782</td>\n",
              "      <td>0.014915</td>\n",
              "      <td>0.014833</td>\n",
              "      <td>0.015400</td>\n",
              "      <td>0.010511</td>\n",
              "    </tr>\n",
              "    <tr>\n",
              "      <th>2</th>\n",
              "      <td>2003-01-06</td>\n",
              "      <td>0.010804</td>\n",
              "      <td>0.010262</td>\n",
              "      <td>-0.004891</td>\n",
              "      <td>0.022226</td>\n",
              "      <td>-0.016118</td>\n",
              "      <td>0.018549</td>\n",
              "      <td>0.000000</td>\n",
              "      <td>0.001533</td>\n",
              "      <td>0.011601</td>\n",
              "      <td>0.009986</td>\n",
              "    </tr>\n",
              "    <tr>\n",
              "      <th>3</th>\n",
              "      <td>2003-01-07</td>\n",
              "      <td>-0.004616</td>\n",
              "      <td>-0.004479</td>\n",
              "      <td>0.005867</td>\n",
              "      <td>-0.006566</td>\n",
              "      <td>-0.002697</td>\n",
              "      <td>-0.008853</td>\n",
              "      <td>-0.011453</td>\n",
              "      <td>-0.020109</td>\n",
              "      <td>0.027062</td>\n",
              "      <td>0.009745</td>\n",
              "    </tr>\n",
              "    <tr>\n",
              "      <th>4</th>\n",
              "      <td>2003-01-08</td>\n",
              "      <td>0.009822</td>\n",
              "      <td>0.009771</td>\n",
              "      <td>-0.006848</td>\n",
              "      <td>-0.014186</td>\n",
              "      <td>0.004093</td>\n",
              "      <td>-0.014657</td>\n",
              "      <td>0.018206</td>\n",
              "      <td>0.010363</td>\n",
              "      <td>0.023340</td>\n",
              "      <td>0.009467</td>\n",
              "    </tr>\n",
              "    <tr>\n",
              "      <th>...</th>\n",
              "      <td>...</td>\n",
              "      <td>...</td>\n",
              "      <td>...</td>\n",
              "      <td>...</td>\n",
              "      <td>...</td>\n",
              "      <td>...</td>\n",
              "      <td>...</td>\n",
              "      <td>...</td>\n",
              "      <td>...</td>\n",
              "      <td>...</td>\n",
              "      <td>...</td>\n",
              "    </tr>\n",
              "    <tr>\n",
              "      <th>5545</th>\n",
              "      <td>2024-04-08</td>\n",
              "      <td>0.008751</td>\n",
              "      <td>0.007897</td>\n",
              "      <td>-0.001535</td>\n",
              "      <td>-0.000375</td>\n",
              "      <td>0.000216</td>\n",
              "      <td>0.001968</td>\n",
              "      <td>0.003975</td>\n",
              "      <td>0.013549</td>\n",
              "      <td>0.023212</td>\n",
              "      <td>0.010161</td>\n",
              "    </tr>\n",
              "    <tr>\n",
              "      <th>5546</th>\n",
              "      <td>2024-04-09</td>\n",
              "      <td>0.000637</td>\n",
              "      <td>0.000161</td>\n",
              "      <td>0.000096</td>\n",
              "      <td>0.001444</td>\n",
              "      <td>-0.001109</td>\n",
              "      <td>0.001528</td>\n",
              "      <td>0.005861</td>\n",
              "      <td>0.010767</td>\n",
              "      <td>0.007737</td>\n",
              "      <td>0.013632</td>\n",
              "    </tr>\n",
              "    <tr>\n",
              "      <th>5547</th>\n",
              "      <td>2024-04-10</td>\n",
              "      <td>-0.004630</td>\n",
              "      <td>-0.004594</td>\n",
              "      <td>0.010506</td>\n",
              "      <td>-0.009502</td>\n",
              "      <td>0.000649</td>\n",
              "      <td>-0.008312</td>\n",
              "      <td>-0.007997</td>\n",
              "      <td>-0.007269</td>\n",
              "      <td>0.026616</td>\n",
              "      <td>0.014112</td>\n",
              "    </tr>\n",
              "    <tr>\n",
              "      <th>5548</th>\n",
              "      <td>2024-04-11</td>\n",
              "      <td>-0.003420</td>\n",
              "      <td>-0.003312</td>\n",
              "      <td>0.000285</td>\n",
              "      <td>0.007417</td>\n",
              "      <td>-0.005083</td>\n",
              "      <td>0.002714</td>\n",
              "      <td>0.016352</td>\n",
              "      <td>0.017577</td>\n",
              "      <td>0.046886</td>\n",
              "      <td>0.013921</td>\n",
              "    </tr>\n",
              "    <tr>\n",
              "      <th>5549</th>\n",
              "      <td>2024-04-12</td>\n",
              "      <td>0.012288</td>\n",
              "      <td>0.013299</td>\n",
              "      <td>0.007193</td>\n",
              "      <td>-0.014658</td>\n",
              "      <td>0.005610</td>\n",
              "      <td>-0.011957</td>\n",
              "      <td>-0.011936</td>\n",
              "      <td>-0.020114</td>\n",
              "      <td>0.048523</td>\n",
              "      <td>0.014055</td>\n",
              "    </tr>\n",
              "  </tbody>\n",
              "</table>\n",
              "<p>5550 rows × 11 columns</p>\n",
              "</div>"
            ],
            "text/plain": [
              "            Date  LMCADS03    LMCADY       DXY       SPX      BCOM      MXWD  \\\n",
              "0     2003-01-02  0.019048  0.019834  0.010739  0.032661  0.025337  0.023209   \n",
              "1     2003-01-03  0.013121  0.013478 -0.004965 -0.000484  0.014288  0.003782   \n",
              "2     2003-01-06  0.010804  0.010262 -0.004891  0.022226 -0.016118  0.018549   \n",
              "3     2003-01-07 -0.004616 -0.004479  0.005867 -0.006566 -0.002697 -0.008853   \n",
              "4     2003-01-08  0.009822  0.009771 -0.006848 -0.014186  0.004093 -0.014657   \n",
              "...          ...       ...       ...       ...       ...       ...       ...   \n",
              "5545  2024-04-08  0.008751  0.007897 -0.001535 -0.000375  0.000216  0.001968   \n",
              "5546  2024-04-09  0.000637  0.000161  0.000096  0.001444 -0.001109  0.001528   \n",
              "5547  2024-04-10 -0.004630 -0.004594  0.010506 -0.009502  0.000649 -0.008312   \n",
              "5548  2024-04-11 -0.003420 -0.003312  0.000285  0.007417 -0.005083  0.002714   \n",
              "5549  2024-04-12  0.012288  0.013299  0.007193 -0.014658  0.005610 -0.011957   \n",
              "\n",
              "           XAU       XAG  LMCADY_acu_5d_log  LMCADY_std_5d_log  \n",
              "0    -0.005763  0.007918           0.040542           0.007181  \n",
              "1     0.014915  0.014833           0.015400           0.010511  \n",
              "2     0.000000  0.001533           0.011601           0.009986  \n",
              "3    -0.011453 -0.020109           0.027062           0.009745  \n",
              "4     0.018206  0.010363           0.023340           0.009467  \n",
              "...        ...       ...                ...                ...  \n",
              "5545  0.003975  0.013549           0.023212           0.010161  \n",
              "5546  0.005861  0.010767           0.007737           0.013632  \n",
              "5547 -0.007997 -0.007269           0.026616           0.014112  \n",
              "5548  0.016352  0.017577           0.046886           0.013921  \n",
              "5549 -0.011936 -0.020114           0.048523           0.014055  \n",
              "\n",
              "[5550 rows x 11 columns]"
            ]
          },
          "execution_count": 2,
          "metadata": {},
          "output_type": "execute_result"
        }
      ],
      "source": [
        "window = 5\n",
        "\n",
        "file_path = './in/copper_log_returns_{}d_final.csv'.format(window)\n",
        "df = pd.read_csv(file_path)\n",
        "df"
      ]
    },
    {
      "cell_type": "code",
      "execution_count": 3,
      "metadata": {
        "colab": {
          "base_uri": "https://localhost:8080/"
        },
        "id": "U9srny_b1sut",
        "outputId": "aa50ef92-b534-4b3a-e265-5f0aadb44548"
      },
      "outputs": [
        {
          "data": {
            "text/plain": [
              "0       0.040542\n",
              "1       0.015400\n",
              "2       0.011601\n",
              "3       0.027062\n",
              "4       0.023340\n",
              "          ...   \n",
              "5545    0.023212\n",
              "5546    0.007737\n",
              "5547    0.026616\n",
              "5548    0.046886\n",
              "5549    0.048523\n",
              "Name: LMCADY_acu_5d_log, Length: 5550, dtype: float64"
            ]
          },
          "execution_count": 3,
          "metadata": {},
          "output_type": "execute_result"
        }
      ],
      "source": [
        "df['Date'] = pd.to_datetime(df['Date'])\n",
        "\n",
        "df = df.sort_values(by='Date')\n",
        "\n",
        "df = df.reset_index(drop=True)\n",
        "\n",
        "# Seleccionar la serie temporal de la variable de interés\n",
        "\n",
        "targ = 'LMCADY_acu_{}d_log'.format(window)\n",
        "# targ = 'LMCADY'.format(window)\n",
        "\n",
        "time_series = df[targ]\n",
        "\n",
        "time_series"
      ]
    },
    {
      "cell_type": "code",
      "execution_count": 4,
      "metadata": {
        "id": "XL4VYrdo2Ry7"
      },
      "outputs": [],
      "source": [
        "LMCADY_train, LMCADY_test = train_test_split(time_series, test_size=0.01, shuffle=False)"
      ]
    },
    {
      "cell_type": "code",
      "execution_count": 5,
      "metadata": {
        "colab": {
          "base_uri": "https://localhost:8080/"
        },
        "id": "0aAP79IK2a3o",
        "outputId": "dc5b9cfb-506a-41e1-dd61-5cefcedef33b"
      },
      "outputs": [
        {
          "data": {
            "text/plain": [
              "0       0.040542\n",
              "1       0.015400\n",
              "2       0.011601\n",
              "3       0.027062\n",
              "4       0.023340\n",
              "          ...   \n",
              "5489    0.021088\n",
              "5490    0.023999\n",
              "5491    0.023747\n",
              "5492    0.003301\n",
              "5493   -0.006153\n",
              "Name: LMCADY_acu_5d_log, Length: 5494, dtype: float64"
            ]
          },
          "execution_count": 5,
          "metadata": {},
          "output_type": "execute_result"
        }
      ],
      "source": [
        "LMCADY_train"
      ]
    },
    {
      "cell_type": "code",
      "execution_count": 6,
      "metadata": {
        "id": "XUKGB2nM3arG"
      },
      "outputs": [],
      "source": [
        "def evaluate_ar_model(train_series, test_series, lags=5):\n",
        "    # asegurarse de que la serie de entrenamiento tenga un índice secuencial o temporal con frecuencia\n",
        "    if not isinstance(train_series.index, pd.DatetimeIndex):\n",
        "        train_series.index = pd.RangeIndex(start=0, stop=len(train_series))\n",
        "\n",
        "    predictions = []\n",
        "\n",
        "    current_train = train_series.copy()\n",
        "\n",
        "    for actual in test_series:\n",
        "        if len(current_train) <= lags:\n",
        "            print(f\"No hay suficientes observaciones para {lags} rezagos. Terminando el ciclo.\")\n",
        "            break\n",
        "\n",
        "        model = AutoReg(current_train, lags=lags)\n",
        "        model_fit = model.fit()\n",
        "\n",
        "        prediction = model_fit.predict(start=len(current_train), end=len(current_train), dynamic=False)\n",
        "\n",
        "        predictions.append(prediction.iloc[0])\n",
        "        # print(\"pred {:.6f}, {:.6f}\".format(prediction.iloc[0],actual))\n",
        "\n",
        "        current_train = pd.concat([current_train, pd.Series([actual], index=[len(current_train)])])\n",
        "\n",
        "    return pd.Series(predictions, index=test_series.index)"
      ]
    },
    {
      "cell_type": "code",
      "execution_count": 7,
      "metadata": {
        "id": "5DPSnKg4P6pR"
      },
      "outputs": [],
      "source": [
        "def calculate_rmse(predictions, actual):\n",
        "    # Asegurarse de que las series sean de igual longitud\n",
        "    if len(predictions) != len(actual):\n",
        "        raise ValueError(\"Las predicciones y los valores reales deben tener la misma longitud.\")\n",
        "\n",
        "    # Calcular el RMSE\n",
        "    mse = mean_squared_error(actual, predictions)\n",
        "    rmse = np.sqrt(mse)\n",
        "    return rmse"
      ]
    },
    {
      "cell_type": "code",
      "execution_count": 8,
      "metadata": {
        "colab": {
          "base_uri": "https://localhost:8080/"
        },
        "id": "6Z_WUHaT3sEF",
        "outputId": "7a6275e0-65ee-43b4-9acb-4ad01392ebd4"
      },
      "outputs": [
        {
          "name": "stdout",
          "output_type": "stream",
          "text": [
            "AR> El RMSE del pronóstico para 0 lags es: 0.027584\n",
            "AR> El RMSE del pronóstico para 1 lags es: 0.014884\n",
            "AR> El RMSE del pronóstico para 2 lags es: 0.014756\n",
            "AR> El RMSE del pronóstico para 3 lags es: 0.014621\n",
            "AR> El RMSE del pronóstico para 4 lags es: 0.014339\n",
            "AR> El RMSE del pronóstico para 5 lags es: 0.013587\n",
            "AR> El RMSE del pronóstico para 6 lags es: 0.013003\n",
            "AR> El RMSE del pronóstico para 7 lags es: 0.013001\n",
            "AR> El RMSE del pronóstico para 8 lags es: 0.012953\n",
            "AR> El RMSE del pronóstico para 9 lags es: 0.013030\n",
            "AR> El RMSE del pronóstico para 10 lags es: 0.012984\n",
            "AR> El RMSE del pronóstico para 11 lags es: 0.012224\n",
            "AR> El RMSE del pronóstico para 12 lags es: 0.012236\n",
            "AR> El RMSE del pronóstico para 13 lags es: 0.012384\n",
            "AR> El RMSE del pronóstico para 14 lags es: 0.012392\n",
            "AR> El RMSE del pronóstico para 15 lags es: 0.012414\n",
            "AR> El RMSE del pronóstico para 16 lags es: 0.011759\n",
            "AR> El RMSE del pronóstico para 17 lags es: 0.011776\n",
            "AR> El RMSE del pronóstico para 18 lags es: 0.011733\n",
            "AR> El RMSE del pronóstico para 19 lags es: 0.011727\n",
            "AR> El RMSE del pronóstico para 20 lags es: 0.011687\n",
            "AR> El RMSE del pronóstico para 21 lags es: 0.011614\n",
            "AR> El RMSE del pronóstico para 22 lags es: 0.011612\n",
            "AR> El RMSE del pronóstico para 23 lags es: 0.011589\n",
            "AR> El RMSE del pronóstico para 24 lags es: 0.011575\n",
            "AR> El RMSE del pronóstico para 25 lags es: 0.011530\n",
            "AR> El RMSE del pronóstico para 26 lags es: 0.011393\n",
            "AR> El RMSE del pronóstico para 27 lags es: 0.011394\n",
            "AR> El RMSE del pronóstico para 28 lags es: 0.011398\n",
            "AR> El RMSE del pronóstico para 29 lags es: 0.011409\n",
            "AR> El RMSE del pronóstico para 30 lags es: 0.011517\n",
            "AR> El RMSE del pronóstico para 31 lags es: 0.011442\n",
            "AR> El RMSE del pronóstico para 32 lags es: 0.011446\n",
            "AR> El RMSE del pronóstico para 33 lags es: 0.011488\n",
            "AR> El RMSE del pronóstico para 34 lags es: 0.011482\n",
            "AR> El RMSE del pronóstico para 35 lags es: 0.011417\n",
            "AR> El RMSE del pronóstico para 36 lags es: 0.011551\n",
            "AR> El RMSE del pronóstico para 37 lags es: 0.011552\n",
            "AR> El RMSE del pronóstico para 38 lags es: 0.011538\n",
            "AR> El RMSE del pronóstico para 39 lags es: 0.011490\n",
            "AR> El RMSE del pronóstico para 40 lags es: 0.011488\n",
            "AR> El RMSE del pronóstico para 41 lags es: 0.011331\n",
            "AR> El RMSE del pronóstico para 42 lags es: 0.011332\n",
            "AR> El RMSE del pronóstico para 43 lags es: 0.011350\n",
            "AR> El RMSE del pronóstico para 44 lags es: 0.011343\n",
            "AR> El RMSE del pronóstico para 45 lags es: 0.011348\n",
            "AR> El RMSE del pronóstico para 46 lags es: 0.011286\n",
            "AR> El RMSE del pronóstico para 47 lags es: 0.011285\n",
            "AR> El RMSE del pronóstico para 48 lags es: 0.011225\n",
            "AR> El RMSE del pronóstico para 49 lags es: 0.011236\n",
            "AR> El RMSE del pronóstico para 50 lags es: 0.011202\n"
          ]
        }
      ],
      "source": [
        "stop_lag = 100\n",
        "\n",
        "best_predictions = None\n",
        "best_lags = None\n",
        "best_rmse = 999.9\n",
        "\n",
        "for lags in range(0,stop_lag+1,1):\n",
        "    LMCADY_predictions = evaluate_ar_model(LMCADY_train, LMCADY_test, lags=lags)\n",
        "    LMCADY_rmse = calculate_rmse(LMCADY_predictions, LMCADY_test)\n",
        "    print(f\"AR> El RMSE del pronóstico para {lags} lags es: {LMCADY_rmse:.6f}\")\n",
        "\n",
        "    if LMCADY_rmse < best_rmse:\n",
        "        best_rmse = LMCADY_rmse\n",
        "        best_lags = lags\n",
        "        best_predictions = LMCADY_predictions"
      ]
    },
    {
      "cell_type": "code",
      "execution_count": 9,
      "metadata": {
        "colab": {
          "base_uri": "https://localhost:8080/"
        },
        "id": "jWDG0wBLTKt2",
        "outputId": "fb6ce3f4-7c05-4402-95ae-9d968b1ee813"
      },
      "outputs": [
        {
          "name": "stdout",
          "output_type": "stream",
          "text": [
            "El mejor rendimiento fue de 50 lags con un rmse de 0.011202\n"
          ]
        }
      ],
      "source": [
        "print(\"El mejor rendimiento fue de {} lags con un rmse de {:.6f}\".format(best_lags,best_rmse))"
      ]
    },
    {
      "cell_type": "code",
      "execution_count": 10,
      "metadata": {
        "colab": {
          "base_uri": "https://localhost:8080/"
        },
        "id": "_6jZYO_YV1HD",
        "outputId": "4473a598-3a4c-4038-b754-8424770b7abf"
      },
      "outputs": [
        {
          "data": {
            "text/plain": [
              "count    56.000000\n",
              "mean      0.010805\n",
              "std       0.026234\n",
              "min      -0.041250\n",
              "25%      -0.008549\n",
              "50%       0.009104\n",
              "75%       0.032561\n",
              "max       0.057085\n",
              "Name: LMCADY_acu_5d_log, dtype: float64"
            ]
          },
          "execution_count": 10,
          "metadata": {},
          "output_type": "execute_result"
        }
      ],
      "source": [
        "LMCADY_test.describe()"
      ]
    },
    {
      "cell_type": "code",
      "execution_count": 11,
      "metadata": {
        "id": "RFbDNpkV361l"
      },
      "outputs": [],
      "source": [
        "def plot_predictions(test_series, predictions, title):\n",
        "    plt.figure(figsize=(12, 6))\n",
        "\n",
        "    plt.plot(test_series.index, test_series, label=\"Actual\", marker='o', linestyle='-')\n",
        "    plt.plot(test_series.index, predictions, label=\"Predicted\", marker='x', linestyle='--')\n",
        "\n",
        "    plt.title(f\"AR Model: {title}\")\n",
        "    plt.legend()\n",
        "    plt.show()"
      ]
    },
    {
      "cell_type": "code",
      "execution_count": 12,
      "metadata": {
        "colab": {
          "base_uri": "https://localhost:8080/",
          "height": 545
        },
        "id": "i3P-ZMiPAcqy",
        "outputId": "9e0a64bf-fdc5-4e4b-c497-e6fe9532eae9"
      },
      "outputs": [
        {
          "data": {
            "image/png": "[encoded data removed]",
            "text/plain": [
              "<Figure size 1200x600 with 1 Axes>"
            ]
          },
          "metadata": {},
          "output_type": "display_data"
        }
      ],
      "source": [
        "plot_predictions(LMCADY_test, best_predictions, \"LMCADY {}d\".format(window))"
      ]
    },
    {
      "cell_type": "code",
      "execution_count": 13,
      "metadata": {
        "id": "_HHB_rwlHi-V"
      },
      "outputs": [],
      "source": [
        "# df['LMCADY_acu_{}d_log'.format(window)].describe()\n",
        "# df['LMCADY'.format(window)].describe()\n"
      ]
    }
  ],
  "metadata": {
    "colab": {
      "provenance": []
    },
    "kernelspec": {
      "display_name": "Python 3",
      "name": "python3"
    },
    "language_info": {
      "codemirror_mode": {
        "name": "ipython",
        "version": 3
      },
      "file_extension": ".py",
      "mimetype": "text/x-python",
      "name": "python",
      "nbconvert_exporter": "python",
      "pygments_lexer": "ipython3",
      "version": "3.10.12"
    }
  },
  "nbformat": 4,
  "nbformat_minor": 0
}
