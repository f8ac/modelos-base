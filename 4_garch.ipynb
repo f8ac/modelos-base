{
 "cells": [
  {
   "cell_type": "code",
   "execution_count": 16,
   "metadata": {},
   "outputs": [],
   "source": [
    "import pandas as pd\n",
    "from arch import arch_model"
   ]
  },
  {
   "cell_type": "code",
   "execution_count": 17,
   "metadata": {},
   "outputs": [],
   "source": [
    "data = pd.read_csv('.\\in\\copper_returns_5d_final.csv')\n",
    "returns = data['LMCADY_acu_5d'].dropna()"
   ]
  },
  {
   "cell_type": "code",
   "execution_count": 18,
   "metadata": {},
   "outputs": [],
   "source": [
    "garch_model = arch_model(returns, vol='Garch', p=1, q=1)"
   ]
  },
  {
   "cell_type": "code",
   "execution_count": 19,
   "metadata": {},
   "outputs": [
    {
     "name": "stderr",
     "output_type": "stream",
     "text": [
      "c:\\Users\\gapuj\\AppData\\Local\\Programs\\Python\\Python39\\lib\\site-packages\\arch\\univariate\\base.py:311: DataScaleWarning: y is poorly scaled, which may affect convergence of the optimizer when\n",
      "estimating the model parameters. The scale of y is 0.00121. Parameter\n",
      "estimation work better when this value is between 1 and 1000. The recommended\n",
      "rescaling is 10 * y.\n",
      "\n",
      "This warning can be disabled by either rescaling y before initializing the\n",
      "model or by setting rescale=False.\n",
      "\n",
      "  warnings.warn(\n"
     ]
    }
   ],
   "source": [
    "garch_fitted = garch_model.fit(disp='off')  # 'disp=off' para suprimir la salida durante el ajuste"
   ]
  },
  {
   "cell_type": "code",
   "execution_count": 20,
   "metadata": {},
   "outputs": [
    {
     "name": "stdout",
     "output_type": "stream",
     "text": [
      "                     Constant Mean - GARCH Model Results                      \n",
      "==============================================================================\n",
      "Dep. Variable:          LMCADY_acu_5d   R-squared:                       0.000\n",
      "Mean Model:             Constant Mean   Adj. R-squared:                  0.000\n",
      "Vol Model:                      GARCH   Log-Likelihood:                11828.4\n",
      "Distribution:                  Normal   AIC:                          -23648.8\n",
      "Method:            Maximum Likelihood   BIC:                          -23622.3\n",
      "                                        No. Observations:                 5539\n",
      "Date:                Fri, Apr 19 2024   Df Residuals:                     5538\n",
      "Time:                        21:34:39   Df Model:                            1\n",
      "                                   Mean Model                                  \n",
      "===============================================================================\n",
      "                  coef    std err          t      P>|t|        95.0% Conf. Int.\n",
      "-------------------------------------------------------------------------------\n",
      "mu         -1.6211e-03  4.909e-04     -3.303  9.581e-04 [-2.583e-03,-6.590e-04]\n",
      "                              Volatility Model                              \n",
      "============================================================================\n",
      "                 coef    std err          t      P>|t|      95.0% Conf. Int.\n",
      "----------------------------------------------------------------------------\n",
      "omega      2.4192e-05  1.875e-06     12.901  4.438e-38 [2.052e-05,2.787e-05]\n",
      "alpha[1]       0.2000  1.904e-02     10.506  8.137e-26     [  0.163,  0.237]\n",
      "beta[1]        0.7800  1.875e-02     41.606      0.000     [  0.743,  0.817]\n",
      "============================================================================\n",
      "\n",
      "Covariance estimator: robust\n",
      "RMSE: 0.03478\n"
     ]
    }
   ],
   "source": [
    "print(garch_fitted.summary())\n",
    "# print rmse\n",
    "print(\"RMSE: {:.4}\".format(garch_fitted.resid.std()))"
   ]
  }
 ],
 "metadata": {
  "kernelspec": {
   "display_name": "Python 3",
   "language": "python",
   "name": "python3"
  },
  "language_info": {
   "codemirror_mode": {
    "name": "ipython",
    "version": 3
   },
   "file_extension": ".py",
   "mimetype": "text/x-python",
   "name": "python",
   "nbconvert_exporter": "python",
   "pygments_lexer": "ipython3",
   "version": "3.9.13"
  }
 },
 "nbformat": 4,
 "nbformat_minor": 2
}
