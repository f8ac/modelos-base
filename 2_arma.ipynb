{
 "cells": [
  {
   "cell_type": "code",
   "execution_count": 1,
   "metadata": {},
   "outputs": [
    {
     "name": "stderr",
     "output_type": "stream",
     "text": [
      "/tmp/ipykernel_105954/1819617421.py:3: DeprecationWarning: \n",
      "Pyarrow will become a required dependency of pandas in the next major release of pandas (pandas 3.0),\n",
      "(to allow more performant data types, such as the Arrow string type, and better interoperability with other libraries)\n",
      "but was not found to be installed on your system.\n",
      "If this would cause problems for you,\n",
      "please provide us feedback at https://github.com/pandas-dev/pandas/issues/54466\n",
      "        \n",
      "  import pandas as pd\n"
     ]
    }
   ],
   "source": [
    "import itertools\n",
    "import numpy as np\n",
    "import pandas as pd\n",
    "import matplotlib.pyplot as plt\n",
    "from sklearn.metrics import mean_squared_error\n",
    "from sklearn.model_selection import train_test_split\n",
    "from statsmodels.tsa.arima.model import ARIMA\n"
   ]
  },
  {
   "cell_type": "code",
   "execution_count": 2,
   "metadata": {},
   "outputs": [
    {
     "data": {
      "text/html": [
       "<div>\n",
       "<style scoped>\n",
       "    .dataframe tbody tr th:only-of-type {\n",
       "        vertical-align: middle;\n",
       "    }\n",
       "\n",
       "    .dataframe tbody tr th {\n",
       "        vertical-align: top;\n",
       "    }\n",
       "\n",
       "    .dataframe thead th {\n",
       "        text-align: right;\n",
       "    }\n",
       "</style>\n",
       "<table border=\"1\" class=\"dataframe\">\n",
       "  <thead>\n",
       "    <tr style=\"text-align: right;\">\n",
       "      <th></th>\n",
       "      <th>Date</th>\n",
       "      <th>LMCADS03</th>\n",
       "      <th>LMCADY</th>\n",
       "      <th>DXY</th>\n",
       "      <th>SPX</th>\n",
       "      <th>BCOM</th>\n",
       "      <th>MXWD</th>\n",
       "      <th>XAU</th>\n",
       "      <th>XAG</th>\n",
       "      <th>LMCADY_acu_5d_log</th>\n",
       "      <th>LMCADY_std_5d_log</th>\n",
       "    </tr>\n",
       "  </thead>\n",
       "  <tbody>\n",
       "    <tr>\n",
       "      <th>0</th>\n",
       "      <td>2003-01-02</td>\n",
       "      <td>0.019048</td>\n",
       "      <td>0.019834</td>\n",
       "      <td>0.010739</td>\n",
       "      <td>0.032661</td>\n",
       "      <td>0.025337</td>\n",
       "      <td>0.023209</td>\n",
       "      <td>-0.005763</td>\n",
       "      <td>0.007918</td>\n",
       "      <td>0.040542</td>\n",
       "      <td>0.007181</td>\n",
       "    </tr>\n",
       "    <tr>\n",
       "      <th>1</th>\n",
       "      <td>2003-01-03</td>\n",
       "      <td>0.013121</td>\n",
       "      <td>0.013478</td>\n",
       "      <td>-0.004965</td>\n",
       "      <td>-0.000484</td>\n",
       "      <td>0.014288</td>\n",
       "      <td>0.003782</td>\n",
       "      <td>0.014915</td>\n",
       "      <td>0.014833</td>\n",
       "      <td>0.015400</td>\n",
       "      <td>0.010511</td>\n",
       "    </tr>\n",
       "    <tr>\n",
       "      <th>2</th>\n",
       "      <td>2003-01-06</td>\n",
       "      <td>0.010804</td>\n",
       "      <td>0.010262</td>\n",
       "      <td>-0.004891</td>\n",
       "      <td>0.022226</td>\n",
       "      <td>-0.016118</td>\n",
       "      <td>0.018549</td>\n",
       "      <td>0.000000</td>\n",
       "      <td>0.001533</td>\n",
       "      <td>0.011601</td>\n",
       "      <td>0.009986</td>\n",
       "    </tr>\n",
       "    <tr>\n",
       "      <th>3</th>\n",
       "      <td>2003-01-07</td>\n",
       "      <td>-0.004616</td>\n",
       "      <td>-0.004479</td>\n",
       "      <td>0.005867</td>\n",
       "      <td>-0.006566</td>\n",
       "      <td>-0.002697</td>\n",
       "      <td>-0.008853</td>\n",
       "      <td>-0.011453</td>\n",
       "      <td>-0.020109</td>\n",
       "      <td>0.027062</td>\n",
       "      <td>0.009745</td>\n",
       "    </tr>\n",
       "    <tr>\n",
       "      <th>4</th>\n",
       "      <td>2003-01-08</td>\n",
       "      <td>0.009822</td>\n",
       "      <td>0.009771</td>\n",
       "      <td>-0.006848</td>\n",
       "      <td>-0.014186</td>\n",
       "      <td>0.004093</td>\n",
       "      <td>-0.014657</td>\n",
       "      <td>0.018206</td>\n",
       "      <td>0.010363</td>\n",
       "      <td>0.023340</td>\n",
       "      <td>0.009467</td>\n",
       "    </tr>\n",
       "    <tr>\n",
       "      <th>...</th>\n",
       "      <td>...</td>\n",
       "      <td>...</td>\n",
       "      <td>...</td>\n",
       "      <td>...</td>\n",
       "      <td>...</td>\n",
       "      <td>...</td>\n",
       "      <td>...</td>\n",
       "      <td>...</td>\n",
       "      <td>...</td>\n",
       "      <td>...</td>\n",
       "      <td>...</td>\n",
       "    </tr>\n",
       "    <tr>\n",
       "      <th>5545</th>\n",
       "      <td>2024-04-08</td>\n",
       "      <td>0.008751</td>\n",
       "      <td>0.007897</td>\n",
       "      <td>-0.001535</td>\n",
       "      <td>-0.000375</td>\n",
       "      <td>0.000216</td>\n",
       "      <td>0.001968</td>\n",
       "      <td>0.003975</td>\n",
       "      <td>0.013549</td>\n",
       "      <td>0.023212</td>\n",
       "      <td>0.010161</td>\n",
       "    </tr>\n",
       "    <tr>\n",
       "      <th>5546</th>\n",
       "      <td>2024-04-09</td>\n",
       "      <td>0.000637</td>\n",
       "      <td>0.000161</td>\n",
       "      <td>0.000096</td>\n",
       "      <td>0.001444</td>\n",
       "      <td>-0.001109</td>\n",
       "      <td>0.001528</td>\n",
       "      <td>0.005861</td>\n",
       "      <td>0.010767</td>\n",
       "      <td>0.007737</td>\n",
       "      <td>0.013632</td>\n",
       "    </tr>\n",
       "    <tr>\n",
       "      <th>5547</th>\n",
       "      <td>2024-04-10</td>\n",
       "      <td>-0.004630</td>\n",
       "      <td>-0.004594</td>\n",
       "      <td>0.010506</td>\n",
       "      <td>-0.009502</td>\n",
       "      <td>0.000649</td>\n",
       "      <td>-0.008312</td>\n",
       "      <td>-0.007997</td>\n",
       "      <td>-0.007269</td>\n",
       "      <td>0.026616</td>\n",
       "      <td>0.014112</td>\n",
       "    </tr>\n",
       "    <tr>\n",
       "      <th>5548</th>\n",
       "      <td>2024-04-11</td>\n",
       "      <td>-0.003420</td>\n",
       "      <td>-0.003312</td>\n",
       "      <td>0.000285</td>\n",
       "      <td>0.007417</td>\n",
       "      <td>-0.005083</td>\n",
       "      <td>0.002714</td>\n",
       "      <td>0.016352</td>\n",
       "      <td>0.017577</td>\n",
       "      <td>0.046886</td>\n",
       "      <td>0.013921</td>\n",
       "    </tr>\n",
       "    <tr>\n",
       "      <th>5549</th>\n",
       "      <td>2024-04-12</td>\n",
       "      <td>0.012288</td>\n",
       "      <td>0.013299</td>\n",
       "      <td>0.007193</td>\n",
       "      <td>-0.014658</td>\n",
       "      <td>0.005610</td>\n",
       "      <td>-0.011957</td>\n",
       "      <td>-0.011936</td>\n",
       "      <td>-0.020114</td>\n",
       "      <td>0.048523</td>\n",
       "      <td>0.014055</td>\n",
       "    </tr>\n",
       "  </tbody>\n",
       "</table>\n",
       "<p>5550 rows × 11 columns</p>\n",
       "</div>"
      ],
      "text/plain": [
       "            Date  LMCADS03    LMCADY       DXY       SPX      BCOM      MXWD  \\\n",
       "0     2003-01-02  0.019048  0.019834  0.010739  0.032661  0.025337  0.023209   \n",
       "1     2003-01-03  0.013121  0.013478 -0.004965 -0.000484  0.014288  0.003782   \n",
       "2     2003-01-06  0.010804  0.010262 -0.004891  0.022226 -0.016118  0.018549   \n",
       "3     2003-01-07 -0.004616 -0.004479  0.005867 -0.006566 -0.002697 -0.008853   \n",
       "4     2003-01-08  0.009822  0.009771 -0.006848 -0.014186  0.004093 -0.014657   \n",
       "...          ...       ...       ...       ...       ...       ...       ...   \n",
       "5545  2024-04-08  0.008751  0.007897 -0.001535 -0.000375  0.000216  0.001968   \n",
       "5546  2024-04-09  0.000637  0.000161  0.000096  0.001444 -0.001109  0.001528   \n",
       "5547  2024-04-10 -0.004630 -0.004594  0.010506 -0.009502  0.000649 -0.008312   \n",
       "5548  2024-04-11 -0.003420 -0.003312  0.000285  0.007417 -0.005083  0.002714   \n",
       "5549  2024-04-12  0.012288  0.013299  0.007193 -0.014658  0.005610 -0.011957   \n",
       "\n",
       "           XAU       XAG  LMCADY_acu_5d_log  LMCADY_std_5d_log  \n",
       "0    -0.005763  0.007918           0.040542           0.007181  \n",
       "1     0.014915  0.014833           0.015400           0.010511  \n",
       "2     0.000000  0.001533           0.011601           0.009986  \n",
       "3    -0.011453 -0.020109           0.027062           0.009745  \n",
       "4     0.018206  0.010363           0.023340           0.009467  \n",
       "...        ...       ...                ...                ...  \n",
       "5545  0.003975  0.013549           0.023212           0.010161  \n",
       "5546  0.005861  0.010767           0.007737           0.013632  \n",
       "5547 -0.007997 -0.007269           0.026616           0.014112  \n",
       "5548  0.016352  0.017577           0.046886           0.013921  \n",
       "5549 -0.011936 -0.020114           0.048523           0.014055  \n",
       "\n",
       "[5550 rows x 11 columns]"
      ]
     },
     "execution_count": 2,
     "metadata": {},
     "output_type": "execute_result"
    }
   ],
   "source": [
    "window = 5\n",
    "\n",
    "file_path = './in/copper_log_returns_{}d_final.csv'.format(window)\n",
    "df = pd.read_csv(file_path)\n",
    "df"
   ]
  },
  {
   "cell_type": "code",
   "execution_count": 3,
   "metadata": {},
   "outputs": [],
   "source": [
    "df['Date'] = pd.to_datetime(df['Date'])\n",
    "\n",
    "df = df.sort_values(by='Date')\n",
    "\n",
    "df = df.reset_index(drop=True)\n",
    "\n",
    "targ = 'LMCADY_acu_{}d_log'.format(window)\n",
    "\n",
    "time_series = df[targ]"
   ]
  },
  {
   "cell_type": "code",
   "execution_count": 4,
   "metadata": {},
   "outputs": [],
   "source": [
    "LMCADY_train, LMCADY_test = train_test_split(time_series, test_size=0.005, shuffle=False)"
   ]
  },
  {
   "cell_type": "code",
   "execution_count": 5,
   "metadata": {},
   "outputs": [],
   "source": [
    "def find_best_arima(time_series, max_q=20, best_p = 100):\n",
    "\n",
    "    best_aic = float('inf')\n",
    "    best_params = None\n",
    "\n",
    "    for q in range(max_q + 1):\n",
    "        try:\n",
    "            model_arima = ARIMA(time_series, order=(best_p, 0, q))\n",
    "            result_arima = model_arima.fit()\n",
    "\n",
    "            aic = result_arima.aic\n",
    "            print('ARIMA{} - AIC:{}'.format((best_p, 0, q), aic))\n",
    "\n",
    "            if aic < best_aic:\n",
    "                best_aic = aic\n",
    "                best_params = (best_p, q)\n",
    "\n",
    "        except Exception as e:\n",
    "            continue\n",
    "\n",
    "    return best_params, best_aic"
   ]
  },
  {
   "cell_type": "code",
   "execution_count": 6,
   "metadata": {},
   "outputs": [],
   "source": [
    "if window == 5:\n",
    "    best_p = 58 \n",
    "elif window == 10:\n",
    "    best_p = 59\n",
    "elif window == 20:\n",
    "    best_p = 100\n",
    "\n",
    "\n",
    "# best_params, best_aic = find_best_arima(time_series,best_p=best_p)\n",
    "# best_params, best_aic\n",
    "\n",
    "# ((0, 5), -29830.06289218084)\n",
    "\n",
    "best_params = (best_p, 10)\n",
    "best_aic = -29830.06289218084"
   ]
  },
  {
   "cell_type": "code",
   "execution_count": 7,
   "metadata": {},
   "outputs": [],
   "source": [
    "def evaluate_arima_model(train_series, test_series, p, q):\n",
    "\n",
    "    if not isinstance(train_series.index, pd.DatetimeIndex):\n",
    "        train_series.index = pd.RangeIndex(start=0, stop=len(train_series))\n",
    "\n",
    "    predictions = []\n",
    "\n",
    "    current_train = train_series.copy()\n",
    "\n",
    "    for actual in test_series:\n",
    "        model_arima = ARIMA(current_train, order=(p, 0, q))\n",
    "        model_fit = model_arima.fit()\n",
    "\n",
    "        prediction = model_fit.predict(start=len(current_train), end=len(current_train))\n",
    "        print('Prediction: {:.6f}'.format(prediction.iloc[0]))\n",
    "\n",
    "        predictions.append(prediction.iloc[0])\n",
    "\n",
    "        current_train = pd.concat([current_train, pd.Series([actual], index=[len(current_train)])])\n",
    "\n",
    "    return pd.Series(predictions, index=test_series.index)"
   ]
  },
  {
   "cell_type": "code",
   "execution_count": 8,
   "metadata": {},
   "outputs": [],
   "source": [
    "def calculate_rmse(predictions, actual):\n",
    "    if len(predictions) != len(actual):\n",
    "        raise ValueError(\"Las predicciones y los valores reales deben tener la misma longitud.\")\n",
    "\n",
    "    mse = mean_squared_error(actual, predictions)\n",
    "    rmse = np.sqrt(mse)\n",
    "    return rmse"
   ]
  },
  {
   "cell_type": "code",
   "execution_count": 9,
   "metadata": {},
   "outputs": [
    {
     "name": "stdout",
     "output_type": "stream",
     "text": [
      "p: 5 q: 5\n"
     ]
    },
    {
     "name": "stderr",
     "output_type": "stream",
     "text": [
      "/home/fochoa/.local/lib/python3.10/site-packages/statsmodels/base/model.py:607: ConvergenceWarning: Maximum Likelihood optimization failed to converge. Check mle_retvals\n",
      "  warnings.warn(\"Maximum Likelihood optimization failed to \"\n"
     ]
    },
    {
     "name": "stdout",
     "output_type": "stream",
     "text": [
      "Prediction: 0.008661\n"
     ]
    },
    {
     "name": "stderr",
     "output_type": "stream",
     "text": [
      "/home/fochoa/.local/lib/python3.10/site-packages/statsmodels/base/model.py:607: ConvergenceWarning: Maximum Likelihood optimization failed to converge. Check mle_retvals\n",
      "  warnings.warn(\"Maximum Likelihood optimization failed to \"\n"
     ]
    },
    {
     "name": "stdout",
     "output_type": "stream",
     "text": [
      "Prediction: 0.032092\n"
     ]
    },
    {
     "name": "stderr",
     "output_type": "stream",
     "text": [
      "/home/fochoa/.local/lib/python3.10/site-packages/statsmodels/base/model.py:607: ConvergenceWarning: Maximum Likelihood optimization failed to converge. Check mle_retvals\n",
      "  warnings.warn(\"Maximum Likelihood optimization failed to \"\n"
     ]
    },
    {
     "name": "stdout",
     "output_type": "stream",
     "text": [
      "Prediction: 0.035675\n"
     ]
    },
    {
     "name": "stderr",
     "output_type": "stream",
     "text": [
      "/home/fochoa/.local/lib/python3.10/site-packages/statsmodels/base/model.py:607: ConvergenceWarning: Maximum Likelihood optimization failed to converge. Check mle_retvals\n",
      "  warnings.warn(\"Maximum Likelihood optimization failed to \"\n"
     ]
    },
    {
     "name": "stdout",
     "output_type": "stream",
     "text": [
      "Prediction: 0.044546\n"
     ]
    },
    {
     "name": "stderr",
     "output_type": "stream",
     "text": [
      "/home/fochoa/.local/lib/python3.10/site-packages/statsmodels/base/model.py:607: ConvergenceWarning: Maximum Likelihood optimization failed to converge. Check mle_retvals\n",
      "  warnings.warn(\"Maximum Likelihood optimization failed to \"\n"
     ]
    },
    {
     "name": "stdout",
     "output_type": "stream",
     "text": [
      "Prediction: 0.047921\n"
     ]
    },
    {
     "name": "stderr",
     "output_type": "stream",
     "text": [
      "/home/fochoa/.local/lib/python3.10/site-packages/statsmodels/base/model.py:607: ConvergenceWarning: Maximum Likelihood optimization failed to converge. Check mle_retvals\n",
      "  warnings.warn(\"Maximum Likelihood optimization failed to \"\n"
     ]
    },
    {
     "name": "stdout",
     "output_type": "stream",
     "text": [
      "Prediction: 0.004674\n"
     ]
    },
    {
     "name": "stderr",
     "output_type": "stream",
     "text": [
      "/home/fochoa/.local/lib/python3.10/site-packages/statsmodels/base/model.py:607: ConvergenceWarning: Maximum Likelihood optimization failed to converge. Check mle_retvals\n",
      "  warnings.warn(\"Maximum Likelihood optimization failed to \"\n"
     ]
    },
    {
     "name": "stdout",
     "output_type": "stream",
     "text": [
      "Prediction: 0.005313\n"
     ]
    },
    {
     "name": "stderr",
     "output_type": "stream",
     "text": [
      "/home/fochoa/.local/lib/python3.10/site-packages/statsmodels/base/model.py:607: ConvergenceWarning: Maximum Likelihood optimization failed to converge. Check mle_retvals\n",
      "  warnings.warn(\"Maximum Likelihood optimization failed to \"\n"
     ]
    },
    {
     "name": "stdout",
     "output_type": "stream",
     "text": [
      "Prediction: -0.012897\n"
     ]
    },
    {
     "name": "stderr",
     "output_type": "stream",
     "text": [
      "/home/fochoa/.local/lib/python3.10/site-packages/statsmodels/base/model.py:607: ConvergenceWarning: Maximum Likelihood optimization failed to converge. Check mle_retvals\n",
      "  warnings.warn(\"Maximum Likelihood optimization failed to \"\n"
     ]
    },
    {
     "name": "stdout",
     "output_type": "stream",
     "text": [
      "Prediction: -0.028102\n"
     ]
    },
    {
     "name": "stderr",
     "output_type": "stream",
     "text": [
      "/home/fochoa/.local/lib/python3.10/site-packages/statsmodels/base/model.py:607: ConvergenceWarning: Maximum Likelihood optimization failed to converge. Check mle_retvals\n",
      "  warnings.warn(\"Maximum Likelihood optimization failed to \"\n"
     ]
    },
    {
     "name": "stdout",
     "output_type": "stream",
     "text": [
      "Prediction: -0.012841\n"
     ]
    },
    {
     "name": "stderr",
     "output_type": "stream",
     "text": [
      "/home/fochoa/.local/lib/python3.10/site-packages/statsmodels/base/model.py:607: ConvergenceWarning: Maximum Likelihood optimization failed to converge. Check mle_retvals\n",
      "  warnings.warn(\"Maximum Likelihood optimization failed to \"\n"
     ]
    },
    {
     "name": "stdout",
     "output_type": "stream",
     "text": [
      "Prediction: -0.007549\n"
     ]
    },
    {
     "name": "stderr",
     "output_type": "stream",
     "text": [
      "/home/fochoa/.local/lib/python3.10/site-packages/statsmodels/base/model.py:607: ConvergenceWarning: Maximum Likelihood optimization failed to converge. Check mle_retvals\n",
      "  warnings.warn(\"Maximum Likelihood optimization failed to \"\n"
     ]
    },
    {
     "name": "stdout",
     "output_type": "stream",
     "text": [
      "Prediction: -0.009736\n"
     ]
    },
    {
     "name": "stderr",
     "output_type": "stream",
     "text": [
      "/home/fochoa/.local/lib/python3.10/site-packages/statsmodels/base/model.py:607: ConvergenceWarning: Maximum Likelihood optimization failed to converge. Check mle_retvals\n",
      "  warnings.warn(\"Maximum Likelihood optimization failed to \"\n"
     ]
    },
    {
     "name": "stdout",
     "output_type": "stream",
     "text": [
      "Prediction: 0.002950\n"
     ]
    },
    {
     "name": "stderr",
     "output_type": "stream",
     "text": [
      "/home/fochoa/.local/lib/python3.10/site-packages/statsmodels/base/model.py:607: ConvergenceWarning: Maximum Likelihood optimization failed to converge. Check mle_retvals\n",
      "  warnings.warn(\"Maximum Likelihood optimization failed to \"\n"
     ]
    },
    {
     "name": "stdout",
     "output_type": "stream",
     "text": [
      "Prediction: 0.000113\n"
     ]
    },
    {
     "name": "stderr",
     "output_type": "stream",
     "text": [
      "/home/fochoa/.local/lib/python3.10/site-packages/statsmodels/base/model.py:607: ConvergenceWarning: Maximum Likelihood optimization failed to converge. Check mle_retvals\n",
      "  warnings.warn(\"Maximum Likelihood optimization failed to \"\n"
     ]
    },
    {
     "name": "stdout",
     "output_type": "stream",
     "text": [
      "Prediction: 0.001735\n"
     ]
    },
    {
     "name": "stderr",
     "output_type": "stream",
     "text": [
      "/home/fochoa/.local/lib/python3.10/site-packages/statsmodels/base/model.py:607: ConvergenceWarning: Maximum Likelihood optimization failed to converge. Check mle_retvals\n",
      "  warnings.warn(\"Maximum Likelihood optimization failed to \"\n"
     ]
    },
    {
     "name": "stdout",
     "output_type": "stream",
     "text": [
      "Prediction: 0.015907\n"
     ]
    },
    {
     "name": "stderr",
     "output_type": "stream",
     "text": [
      "/home/fochoa/.local/lib/python3.10/site-packages/statsmodels/base/model.py:607: ConvergenceWarning: Maximum Likelihood optimization failed to converge. Check mle_retvals\n",
      "  warnings.warn(\"Maximum Likelihood optimization failed to \"\n"
     ]
    },
    {
     "name": "stdout",
     "output_type": "stream",
     "text": [
      "Prediction: 0.040878\n"
     ]
    },
    {
     "name": "stderr",
     "output_type": "stream",
     "text": [
      "/home/fochoa/.local/lib/python3.10/site-packages/statsmodels/base/model.py:607: ConvergenceWarning: Maximum Likelihood optimization failed to converge. Check mle_retvals\n",
      "  warnings.warn(\"Maximum Likelihood optimization failed to \"\n"
     ]
    },
    {
     "name": "stdout",
     "output_type": "stream",
     "text": [
      "Prediction: 0.052897\n"
     ]
    },
    {
     "name": "stderr",
     "output_type": "stream",
     "text": [
      "/home/fochoa/.local/lib/python3.10/site-packages/statsmodels/base/model.py:607: ConvergenceWarning: Maximum Likelihood optimization failed to converge. Check mle_retvals\n",
      "  warnings.warn(\"Maximum Likelihood optimization failed to \"\n"
     ]
    },
    {
     "name": "stdout",
     "output_type": "stream",
     "text": [
      "Prediction: 0.048592\n"
     ]
    },
    {
     "name": "stderr",
     "output_type": "stream",
     "text": [
      "/home/fochoa/.local/lib/python3.10/site-packages/statsmodels/base/model.py:607: ConvergenceWarning: Maximum Likelihood optimization failed to converge. Check mle_retvals\n",
      "  warnings.warn(\"Maximum Likelihood optimization failed to \"\n"
     ]
    },
    {
     "name": "stdout",
     "output_type": "stream",
     "text": [
      "Prediction: 0.044107\n"
     ]
    },
    {
     "name": "stderr",
     "output_type": "stream",
     "text": [
      "/home/fochoa/.local/lib/python3.10/site-packages/statsmodels/base/model.py:607: ConvergenceWarning: Maximum Likelihood optimization failed to converge. Check mle_retvals\n",
      "  warnings.warn(\"Maximum Likelihood optimization failed to \"\n"
     ]
    },
    {
     "name": "stdout",
     "output_type": "stream",
     "text": [
      "Prediction: 0.014752\n"
     ]
    },
    {
     "name": "stderr",
     "output_type": "stream",
     "text": [
      "/home/fochoa/.local/lib/python3.10/site-packages/statsmodels/base/model.py:607: ConvergenceWarning: Maximum Likelihood optimization failed to converge. Check mle_retvals\n",
      "  warnings.warn(\"Maximum Likelihood optimization failed to \"\n"
     ]
    },
    {
     "name": "stdout",
     "output_type": "stream",
     "text": [
      "Prediction: 0.000812\n"
     ]
    },
    {
     "name": "stderr",
     "output_type": "stream",
     "text": [
      "/home/fochoa/.local/lib/python3.10/site-packages/statsmodels/base/model.py:607: ConvergenceWarning: Maximum Likelihood optimization failed to converge. Check mle_retvals\n",
      "  warnings.warn(\"Maximum Likelihood optimization failed to \"\n"
     ]
    },
    {
     "name": "stdout",
     "output_type": "stream",
     "text": [
      "Prediction: 0.001970\n"
     ]
    },
    {
     "name": "stderr",
     "output_type": "stream",
     "text": [
      "/home/fochoa/.local/lib/python3.10/site-packages/statsmodels/base/model.py:607: ConvergenceWarning: Maximum Likelihood optimization failed to converge. Check mle_retvals\n",
      "  warnings.warn(\"Maximum Likelihood optimization failed to \"\n"
     ]
    },
    {
     "name": "stdout",
     "output_type": "stream",
     "text": [
      "Prediction: 0.003940\n"
     ]
    },
    {
     "name": "stderr",
     "output_type": "stream",
     "text": [
      "/home/fochoa/.local/lib/python3.10/site-packages/statsmodels/base/model.py:607: ConvergenceWarning: Maximum Likelihood optimization failed to converge. Check mle_retvals\n",
      "  warnings.warn(\"Maximum Likelihood optimization failed to \"\n"
     ]
    },
    {
     "name": "stdout",
     "output_type": "stream",
     "text": [
      "Prediction: 0.020102\n"
     ]
    },
    {
     "name": "stderr",
     "output_type": "stream",
     "text": [
      "/home/fochoa/.local/lib/python3.10/site-packages/statsmodels/base/model.py:607: ConvergenceWarning: Maximum Likelihood optimization failed to converge. Check mle_retvals\n",
      "  warnings.warn(\"Maximum Likelihood optimization failed to \"\n"
     ]
    },
    {
     "name": "stdout",
     "output_type": "stream",
     "text": [
      "Prediction: 0.012880\n"
     ]
    },
    {
     "name": "stderr",
     "output_type": "stream",
     "text": [
      "/home/fochoa/.local/lib/python3.10/site-packages/statsmodels/base/model.py:607: ConvergenceWarning: Maximum Likelihood optimization failed to converge. Check mle_retvals\n",
      "  warnings.warn(\"Maximum Likelihood optimization failed to \"\n"
     ]
    },
    {
     "name": "stdout",
     "output_type": "stream",
     "text": [
      "Prediction: 0.029412\n",
      "Prediction: 0.033192\n"
     ]
    },
    {
     "name": "stderr",
     "output_type": "stream",
     "text": [
      "/home/fochoa/.local/lib/python3.10/site-packages/statsmodels/base/model.py:607: ConvergenceWarning: Maximum Likelihood optimization failed to converge. Check mle_retvals\n",
      "  warnings.warn(\"Maximum Likelihood optimization failed to \"\n"
     ]
    }
   ],
   "source": [
    "# p, q = best_params\n",
    "p = 5\n",
    "q = 5\n",
    "print('p:', p, 'q:', q)\n",
    "LMCADY_predictions = evaluate_arima_model(LMCADY_train, LMCADY_test, p, q)\n",
    "LMCADY_rmse = calculate_rmse(LMCADY_predictions, LMCADY_test)"
   ]
  },
  {
   "cell_type": "code",
   "execution_count": 10,
   "metadata": {},
   "outputs": [],
   "source": [
    "def plot_predictions(test_series, predictions, title):\n",
    "    plt.figure(figsize=(12, 6))\n",
    "\n",
    "    plt.plot(test_series.index, test_series, label=\"Actual\", marker='o', linestyle='-')\n",
    "    plt.plot(test_series.index, predictions, label=\"Predicted\", marker='x', linestyle='--')\n",
    "\n",
    "    plt.title(f\"ARMA Model: {title}\")\n",
    "    plt.legend()\n",
    "    plt.show()"
   ]
  },
  {
   "cell_type": "code",
   "execution_count": 11,
   "metadata": {},
   "outputs": [
    {
     "data": {
      "text/plain": [
       "0.012646124092462775"
      ]
     },
     "execution_count": 11,
     "metadata": {},
     "output_type": "execute_result"
    }
   ],
   "source": [
    "LMCADY_rmse"
   ]
  },
  {
   "cell_type": "code",
   "execution_count": 12,
   "metadata": {},
   "outputs": [
    {
     "data": {
      "text/plain": [
       "0.025725924025968183"
      ]
     },
     "execution_count": 12,
     "metadata": {},
     "output_type": "execute_result"
    }
   ],
   "source": [
    "LMCADY_test.describe()['std']"
   ]
  },
  {
   "cell_type": "code",
   "execution_count": 13,
   "metadata": {},
   "outputs": [
    {
     "data": {
      "image/png": "[encoded data removed]",
      "text/plain": [
       "<Figure size 1200x600 with 1 Axes>"
      ]
     },
     "metadata": {},
     "output_type": "display_data"
    }
   ],
   "source": [
    "plot_predictions(LMCADY_test, LMCADY_predictions, \"LMCADY {}d\".format(window))"
   ]
  }
 ],
 "metadata": {
  "kernelspec": {
   "display_name": "Python 3",
   "language": "python",
   "name": "python3"
  },
  "language_info": {
   "codemirror_mode": {
    "name": "ipython",
    "version": 3
   },
   "file_extension": ".py",
   "mimetype": "text/x-python",
   "name": "python",
   "nbconvert_exporter": "python",
   "pygments_lexer": "ipython3",
   "version": "3.10.12"
  }
 },
 "nbformat": 4,
 "nbformat_minor": 2
}
