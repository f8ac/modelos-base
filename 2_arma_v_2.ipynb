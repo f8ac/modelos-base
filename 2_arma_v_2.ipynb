{
 "cells": [
  {
   "cell_type": "code",
   "execution_count": 54,
   "metadata": {},
   "outputs": [],
   "source": [
    "import itertools\n",
    "import numpy as np\n",
    "import pandas as pd\n",
    "import matplotlib.pyplot as plt\n",
    "from sklearn.metrics import mean_squared_error\n",
    "from sklearn.model_selection import train_test_split\n",
    "from statsmodels.tsa.arima.model import ARIMA\n"
   ]
  },
  {
   "cell_type": "code",
   "execution_count": 55,
   "metadata": {},
   "outputs": [
    {
     "data": {
      "text/html": [
       "<div>\n",
       "<style scoped>\n",
       "    .dataframe tbody tr th:only-of-type {\n",
       "        vertical-align: middle;\n",
       "    }\n",
       "\n",
       "    .dataframe tbody tr th {\n",
       "        vertical-align: top;\n",
       "    }\n",
       "\n",
       "    .dataframe thead th {\n",
       "        text-align: right;\n",
       "    }\n",
       "</style>\n",
       "<table border=\"1\" class=\"dataframe\">\n",
       "  <thead>\n",
       "    <tr style=\"text-align: right;\">\n",
       "      <th></th>\n",
       "      <th>Date</th>\n",
       "      <th>LMCADS03</th>\n",
       "      <th>LMCADY</th>\n",
       "      <th>DXY</th>\n",
       "      <th>SPX</th>\n",
       "      <th>BCOM</th>\n",
       "      <th>MXWD</th>\n",
       "      <th>XAU</th>\n",
       "      <th>XAG</th>\n",
       "      <th>LMCADY_acu_20d_log</th>\n",
       "      <th>LMCADY_std_20d_log</th>\n",
       "    </tr>\n",
       "  </thead>\n",
       "  <tbody>\n",
       "    <tr>\n",
       "      <th>0</th>\n",
       "      <td>2003-01-02</td>\n",
       "      <td>0.019048</td>\n",
       "      <td>0.019834</td>\n",
       "      <td>0.010739</td>\n",
       "      <td>0.032661</td>\n",
       "      <td>0.025337</td>\n",
       "      <td>0.023209</td>\n",
       "      <td>-0.005763</td>\n",
       "      <td>0.007918</td>\n",
       "      <td>0.081352</td>\n",
       "      <td>0.009287</td>\n",
       "    </tr>\n",
       "    <tr>\n",
       "      <th>1</th>\n",
       "      <td>2003-01-03</td>\n",
       "      <td>0.013121</td>\n",
       "      <td>0.013478</td>\n",
       "      <td>-0.004965</td>\n",
       "      <td>-0.000484</td>\n",
       "      <td>0.014288</td>\n",
       "      <td>0.003782</td>\n",
       "      <td>0.014915</td>\n",
       "      <td>0.014833</td>\n",
       "      <td>0.075898</td>\n",
       "      <td>0.009074</td>\n",
       "    </tr>\n",
       "    <tr>\n",
       "      <th>2</th>\n",
       "      <td>2003-01-06</td>\n",
       "      <td>0.010804</td>\n",
       "      <td>0.010262</td>\n",
       "      <td>-0.004891</td>\n",
       "      <td>0.022226</td>\n",
       "      <td>-0.016118</td>\n",
       "      <td>0.018549</td>\n",
       "      <td>0.000000</td>\n",
       "      <td>0.001533</td>\n",
       "      <td>0.068538</td>\n",
       "      <td>0.008946</td>\n",
       "    </tr>\n",
       "    <tr>\n",
       "      <th>3</th>\n",
       "      <td>2003-01-07</td>\n",
       "      <td>-0.004616</td>\n",
       "      <td>-0.004479</td>\n",
       "      <td>0.005867</td>\n",
       "      <td>-0.006566</td>\n",
       "      <td>-0.002697</td>\n",
       "      <td>-0.008853</td>\n",
       "      <td>-0.011453</td>\n",
       "      <td>-0.020109</td>\n",
       "      <td>0.055772</td>\n",
       "      <td>0.009940</td>\n",
       "    </tr>\n",
       "    <tr>\n",
       "      <th>4</th>\n",
       "      <td>2003-01-08</td>\n",
       "      <td>0.009822</td>\n",
       "      <td>0.009771</td>\n",
       "      <td>-0.006848</td>\n",
       "      <td>-0.014186</td>\n",
       "      <td>0.004093</td>\n",
       "      <td>-0.014657</td>\n",
       "      <td>0.018206</td>\n",
       "      <td>0.010363</td>\n",
       "      <td>0.046443</td>\n",
       "      <td>0.009813</td>\n",
       "    </tr>\n",
       "    <tr>\n",
       "      <th>...</th>\n",
       "      <td>...</td>\n",
       "      <td>...</td>\n",
       "      <td>...</td>\n",
       "      <td>...</td>\n",
       "      <td>...</td>\n",
       "      <td>...</td>\n",
       "      <td>...</td>\n",
       "      <td>...</td>\n",
       "      <td>...</td>\n",
       "      <td>...</td>\n",
       "      <td>...</td>\n",
       "    </tr>\n",
       "    <tr>\n",
       "      <th>5530</th>\n",
       "      <td>2024-03-18</td>\n",
       "      <td>0.001872</td>\n",
       "      <td>0.001962</td>\n",
       "      <td>0.001449</td>\n",
       "      <td>0.006298</td>\n",
       "      <td>0.004918</td>\n",
       "      <td>0.005016</td>\n",
       "      <td>0.002067</td>\n",
       "      <td>-0.005957</td>\n",
       "      <td>0.055556</td>\n",
       "      <td>0.009941</td>\n",
       "    </tr>\n",
       "    <tr>\n",
       "      <th>5531</th>\n",
       "      <td>2024-03-19</td>\n",
       "      <td>-0.012455</td>\n",
       "      <td>-0.012914</td>\n",
       "      <td>0.002314</td>\n",
       "      <td>0.005633</td>\n",
       "      <td>-0.000881</td>\n",
       "      <td>0.002382</td>\n",
       "      <td>-0.001283</td>\n",
       "      <td>-0.004905</td>\n",
       "      <td>0.053156</td>\n",
       "      <td>0.010152</td>\n",
       "    </tr>\n",
       "    <tr>\n",
       "      <th>5532</th>\n",
       "      <td>2024-03-20</td>\n",
       "      <td>-0.005418</td>\n",
       "      <td>-0.005876</td>\n",
       "      <td>-0.004150</td>\n",
       "      <td>0.008865</td>\n",
       "      <td>-0.003435</td>\n",
       "      <td>0.006111</td>\n",
       "      <td>0.013260</td>\n",
       "      <td>0.026443</td>\n",
       "      <td>0.073317</td>\n",
       "      <td>0.010261</td>\n",
       "    </tr>\n",
       "    <tr>\n",
       "      <th>5533</th>\n",
       "      <td>2024-03-21</td>\n",
       "      <td>0.002517</td>\n",
       "      <td>0.002132</td>\n",
       "      <td>0.005979</td>\n",
       "      <td>0.003231</td>\n",
       "      <td>0.001955</td>\n",
       "      <td>0.006763</td>\n",
       "      <td>-0.002317</td>\n",
       "      <td>-0.033334</td>\n",
       "      <td>0.088143</td>\n",
       "      <td>0.010671</td>\n",
       "    </tr>\n",
       "    <tr>\n",
       "      <th>5534</th>\n",
       "      <td>2024-03-22</td>\n",
       "      <td>-0.009429</td>\n",
       "      <td>-0.009278</td>\n",
       "      <td>0.004030</td>\n",
       "      <td>-0.001403</td>\n",
       "      <td>-0.007463</td>\n",
       "      <td>-0.002582</td>\n",
       "      <td>-0.007311</td>\n",
       "      <td>-0.002849</td>\n",
       "      <td>0.112357</td>\n",
       "      <td>0.010407</td>\n",
       "    </tr>\n",
       "  </tbody>\n",
       "</table>\n",
       "<p>5535 rows × 11 columns</p>\n",
       "</div>"
      ],
      "text/plain": [
       "            Date  LMCADS03    LMCADY       DXY       SPX      BCOM      MXWD  \\\n",
       "0     2003-01-02  0.019048  0.019834  0.010739  0.032661  0.025337  0.023209   \n",
       "1     2003-01-03  0.013121  0.013478 -0.004965 -0.000484  0.014288  0.003782   \n",
       "2     2003-01-06  0.010804  0.010262 -0.004891  0.022226 -0.016118  0.018549   \n",
       "3     2003-01-07 -0.004616 -0.004479  0.005867 -0.006566 -0.002697 -0.008853   \n",
       "4     2003-01-08  0.009822  0.009771 -0.006848 -0.014186  0.004093 -0.014657   \n",
       "...          ...       ...       ...       ...       ...       ...       ...   \n",
       "5530  2024-03-18  0.001872  0.001962  0.001449  0.006298  0.004918  0.005016   \n",
       "5531  2024-03-19 -0.012455 -0.012914  0.002314  0.005633 -0.000881  0.002382   \n",
       "5532  2024-03-20 -0.005418 -0.005876 -0.004150  0.008865 -0.003435  0.006111   \n",
       "5533  2024-03-21  0.002517  0.002132  0.005979  0.003231  0.001955  0.006763   \n",
       "5534  2024-03-22 -0.009429 -0.009278  0.004030 -0.001403 -0.007463 -0.002582   \n",
       "\n",
       "           XAU       XAG  LMCADY_acu_20d_log  LMCADY_std_20d_log  \n",
       "0    -0.005763  0.007918            0.081352            0.009287  \n",
       "1     0.014915  0.014833            0.075898            0.009074  \n",
       "2     0.000000  0.001533            0.068538            0.008946  \n",
       "3    -0.011453 -0.020109            0.055772            0.009940  \n",
       "4     0.018206  0.010363            0.046443            0.009813  \n",
       "...        ...       ...                 ...                 ...  \n",
       "5530  0.002067 -0.005957            0.055556            0.009941  \n",
       "5531 -0.001283 -0.004905            0.053156            0.010152  \n",
       "5532  0.013260  0.026443            0.073317            0.010261  \n",
       "5533 -0.002317 -0.033334            0.088143            0.010671  \n",
       "5534 -0.007311 -0.002849            0.112357            0.010407  \n",
       "\n",
       "[5535 rows x 11 columns]"
      ]
     },
     "execution_count": 55,
     "metadata": {},
     "output_type": "execute_result"
    }
   ],
   "source": [
    "window = 20\n",
    "\n",
    "file_path = './in/copper_log_returns_{}d_final.csv'.format(window)\n",
    "df = pd.read_csv(file_path)\n",
    "df"
   ]
  },
  {
   "cell_type": "code",
   "execution_count": 56,
   "metadata": {},
   "outputs": [],
   "source": [
    "df['Date'] = pd.to_datetime(df['Date'])\n",
    "\n",
    "df = df.sort_values(by='Date')\n",
    "\n",
    "df = df.reset_index(drop=True)\n",
    "\n",
    "targ = 'LMCADY_acu_{}d_log'.format(window)\n",
    "\n",
    "time_series = df[targ]"
   ]
  },
  {
   "cell_type": "code",
   "execution_count": 57,
   "metadata": {},
   "outputs": [],
   "source": [
    "if      window ==   5:\n",
    "    test_size = 0.0050\n",
    "elif    window ==   10:\n",
    "    test_size = 0.0075\n",
    "elif    window ==   20:\n",
    "    test_size = 0.0100\n",
    "    \n",
    "LMCADY_train, LMCADY_test = train_test_split(time_series, test_size=test_size, shuffle=False)"
   ]
  },
  {
   "cell_type": "code",
   "execution_count": 58,
   "metadata": {},
   "outputs": [],
   "source": [
    "def find_best_arima(time_series, max_q=20, best_p = 100):\n",
    "\n",
    "    best_aic = float('inf')\n",
    "    best_params = None\n",
    "\n",
    "    for q in range(max_q + 1):\n",
    "        try:\n",
    "            model_arima = ARIMA(time_series, order=(best_p, 0, q))\n",
    "            result_arima = model_arima.fit()\n",
    "\n",
    "            aic = result_arima.aic\n",
    "            print('ARIMA{} - AIC:{}'.format((best_p, 0, q), aic))\n",
    "\n",
    "            if aic < best_aic:\n",
    "                best_aic = aic\n",
    "                best_params = (best_p, q)\n",
    "\n",
    "        except Exception as e:\n",
    "            continue\n",
    "\n",
    "    return best_params, best_aic"
   ]
  },
  {
   "cell_type": "code",
   "execution_count": 59,
   "metadata": {},
   "outputs": [],
   "source": [
    "if window == 5:\n",
    "    best_p = 58 \n",
    "elif window == 10:\n",
    "    best_p = 59\n",
    "elif window == 20:\n",
    "    best_p = 100\n",
    "\n",
    "\n",
    "# best_params, best_aic = find_best_arima(time_series,best_p=best_p)\n",
    "# best_params, best_aic\n",
    "\n",
    "# ((0, 5), -29830.06289218084)\n",
    "\n",
    "best_params = (best_p, 10)\n",
    "best_aic = -29830.06289218084"
   ]
  },
  {
   "cell_type": "code",
   "execution_count": 60,
   "metadata": {},
   "outputs": [],
   "source": [
    "def evaluate_arima_model(train_series, test_series, p, q):\n",
    "\n",
    "    if not isinstance(train_series.index, pd.DatetimeIndex):\n",
    "        train_series.index = pd.RangeIndex(start=0, stop=len(train_series))\n",
    "\n",
    "    predictions = []\n",
    "\n",
    "    current_train = train_series.copy()\n",
    "\n",
    "    for actual in test_series:\n",
    "        model_arima = ARIMA(current_train, order=(p, 0, q))\n",
    "        model_fit = model_arima.fit()\n",
    "\n",
    "        prediction = model_fit.predict(start=len(current_train), end=(len(current_train)+window-1))\n",
    "        print('Prediction array :,', prediction)\n",
    "        print('Prediction: {:.6f}, real {:.6f}'.format(prediction.iloc[-1], actual))\n",
    "\n",
    "        predictions.append(prediction.iloc[-1])\n",
    "\n",
    "        current_train = pd.concat([current_train, pd.Series([actual], index=[len(current_train)])])\n",
    "\n",
    "    return pd.Series(predictions, index=test_series.index)"
   ]
  },
  {
   "cell_type": "code",
   "execution_count": 61,
   "metadata": {},
   "outputs": [],
   "source": [
    "def calculate_rmse(predictions, actual):\n",
    "    if len(predictions) != len(actual):\n",
    "        raise ValueError(\"Las predicciones y los valores reales deben tener la misma longitud.\")\n",
    "\n",
    "    mse = mean_squared_error(actual, predictions)\n",
    "    rmse = np.sqrt(mse)\n",
    "    return rmse"
   ]
  },
  {
   "cell_type": "code",
   "execution_count": 62,
   "metadata": {},
   "outputs": [
    {
     "name": "stdout",
     "output_type": "stream",
     "text": [
      "p: 5 q: 5\n"
     ]
    },
    {
     "name": "stderr",
     "output_type": "stream",
     "text": [
      "/home/fochoa/.local/lib/python3.10/site-packages/statsmodels/base/model.py:607: ConvergenceWarning: Maximum Likelihood optimization failed to converge. Check mle_retvals\n",
      "  warnings.warn(\"Maximum Likelihood optimization failed to \"\n"
     ]
    },
    {
     "name": "stdout",
     "output_type": "stream",
     "text": [
      "Prediction array :, 5479    0.007518\n",
      "5480    0.007343\n",
      "5481    0.007789\n",
      "5482    0.008077\n",
      "5483    0.007817\n",
      "5484    0.008388\n",
      "5485    0.008380\n",
      "5486    0.008308\n",
      "5487    0.008819\n",
      "5488    0.008628\n",
      "5489    0.008758\n",
      "5490    0.009104\n",
      "5491    0.008858\n",
      "5492    0.009135\n",
      "5493    0.009276\n",
      "5494    0.009086\n",
      "5495    0.009416\n",
      "5496    0.009376\n",
      "5497    0.009306\n",
      "5498    0.009596\n",
      "Name: predicted_mean, dtype: float64\n",
      "Prediction: 0.009596, real 0.001594\n"
     ]
    },
    {
     "name": "stderr",
     "output_type": "stream",
     "text": [
      "/home/fochoa/.local/lib/python3.10/site-packages/statsmodels/base/model.py:607: ConvergenceWarning: Maximum Likelihood optimization failed to converge. Check mle_retvals\n",
      "  warnings.warn(\"Maximum Likelihood optimization failed to \"\n"
     ]
    },
    {
     "name": "stdout",
     "output_type": "stream",
     "text": [
      "Prediction array :, 5480    0.002192\n",
      "5481    0.002896\n",
      "5482    0.002516\n",
      "5483    0.002816\n",
      "5484    0.003097\n",
      "5485    0.002813\n",
      "5486    0.003195\n",
      "5487    0.003283\n",
      "5488    0.003105\n",
      "5489    0.003496\n",
      "5490    0.003437\n",
      "5491    0.003388\n",
      "5492    0.003721\n",
      "5493    0.003579\n",
      "5494    0.003647\n",
      "5495    0.003883\n",
      "5496    0.003719\n",
      "5497    0.003869\n",
      "5498    0.003996\n",
      "5499    0.003858\n",
      "Name: predicted_mean, dtype: float64\n",
      "Prediction: 0.003858, real -0.011147\n"
     ]
    },
    {
     "name": "stderr",
     "output_type": "stream",
     "text": [
      "/home/fochoa/.local/lib/python3.10/site-packages/statsmodels/base/model.py:607: ConvergenceWarning: Maximum Likelihood optimization failed to converge. Check mle_retvals\n",
      "  warnings.warn(\"Maximum Likelihood optimization failed to \"\n"
     ]
    },
    {
     "name": "stdout",
     "output_type": "stream",
     "text": [
      "Prediction array :, 5481   -0.009265\n",
      "5482   -0.008095\n",
      "5483   -0.007393\n",
      "5484   -0.006347\n",
      "5485   -0.006106\n",
      "5486   -0.005112\n",
      "5487   -0.004441\n",
      "5488   -0.004134\n",
      "5489   -0.003155\n",
      "5490   -0.002765\n",
      "5491   -0.002328\n",
      "5492   -0.001482\n",
      "5493   -0.001266\n",
      "5494   -0.000702\n",
      "5495   -0.000063\n",
      "5496    0.000096\n",
      "5497    0.000727\n",
      "5498    0.001145\n",
      "5499    0.001339\n",
      "5500    0.001953\n",
      "Name: predicted_mean, dtype: float64\n",
      "Prediction: 0.001953, real 0.003606\n"
     ]
    },
    {
     "name": "stderr",
     "output_type": "stream",
     "text": [
      "/home/fochoa/.local/lib/python3.10/site-packages/statsmodels/base/model.py:607: ConvergenceWarning: Maximum Likelihood optimization failed to converge. Check mle_retvals\n",
      "  warnings.warn(\"Maximum Likelihood optimization failed to \"\n"
     ]
    },
    {
     "name": "stdout",
     "output_type": "stream",
     "text": [
      "Prediction array :, 5482    0.004142\n",
      "5483    0.004831\n",
      "5484    0.005282\n",
      "5485    0.005525\n",
      "5486    0.007218\n",
      "5487    0.006990\n",
      "5488    0.007762\n",
      "5489    0.008951\n",
      "5490    0.008627\n",
      "5491    0.009704\n",
      "5492    0.010348\n",
      "5493    0.010168\n",
      "5494    0.011323\n",
      "5495    0.011508\n",
      "5496    0.011600\n",
      "5497    0.012621\n",
      "5498    0.012513\n",
      "5499    0.012886\n",
      "5500    0.013633\n",
      "5501    0.013419\n",
      "Name: predicted_mean, dtype: float64\n",
      "Prediction: 0.013419, real -0.008533\n"
     ]
    },
    {
     "name": "stderr",
     "output_type": "stream",
     "text": [
      "/home/fochoa/.local/lib/python3.10/site-packages/statsmodels/base/model.py:607: ConvergenceWarning: Maximum Likelihood optimization failed to converge. Check mle_retvals\n",
      "  warnings.warn(\"Maximum Likelihood optimization failed to \"\n"
     ]
    },
    {
     "name": "stdout",
     "output_type": "stream",
     "text": [
      "Prediction array :, 5483   -0.006421\n",
      "5484   -0.005883\n",
      "5485   -0.003532\n",
      "5486   -0.002393\n",
      "5487   -0.002132\n",
      "5488    0.000081\n",
      "5489    0.000797\n",
      "5490    0.001253\n",
      "5491    0.003184\n",
      "5492    0.003616\n",
      "5493    0.004227\n",
      "5494    0.005855\n",
      "5495    0.006104\n",
      "5496    0.006824\n",
      "5497    0.008152\n",
      "5498    0.008295\n",
      "5499    0.009077\n",
      "5500    0.010124\n",
      "5501    0.010221\n",
      "5502    0.011019\n",
      "Name: predicted_mean, dtype: float64\n",
      "Prediction: 0.011019, real -0.021678\n"
     ]
    },
    {
     "name": "stderr",
     "output_type": "stream",
     "text": [
      "/home/fochoa/.local/lib/python3.10/site-packages/statsmodels/base/model.py:607: ConvergenceWarning: Maximum Likelihood optimization failed to converge. Check mle_retvals\n",
      "  warnings.warn(\"Maximum Likelihood optimization failed to \"\n"
     ]
    },
    {
     "name": "stdout",
     "output_type": "stream",
     "text": [
      "Prediction array :, 5484   -0.019442\n",
      "5485   -0.018392\n",
      "5486   -0.015737\n",
      "5487   -0.015506\n",
      "5488   -0.014482\n",
      "5489   -0.012238\n",
      "5490   -0.012416\n",
      "5491   -0.010796\n",
      "5492   -0.009344\n",
      "5493   -0.009452\n",
      "5494   -0.007566\n",
      "5495   -0.006872\n",
      "5496   -0.006622\n",
      "5497   -0.004832\n",
      "5498   -0.004677\n",
      "5499   -0.003983\n",
      "5500   -0.002569\n",
      "5501   -0.002651\n",
      "5502   -0.001609\n",
      "5503   -0.000700\n",
      "Name: predicted_mean, dtype: float64\n",
      "Prediction: -0.000700, real -0.021607\n"
     ]
    },
    {
     "name": "stderr",
     "output_type": "stream",
     "text": [
      "/home/fochoa/.local/lib/python3.10/site-packages/statsmodels/base/model.py:607: ConvergenceWarning: Maximum Likelihood optimization failed to converge. Check mle_retvals\n",
      "  warnings.warn(\"Maximum Likelihood optimization failed to \"\n"
     ]
    },
    {
     "name": "stdout",
     "output_type": "stream",
     "text": [
      "Prediction array :, 5485   -0.020558\n",
      "5486   -0.017627\n",
      "5487   -0.017674\n",
      "5488   -0.016693\n",
      "5489   -0.014376\n",
      "5490   -0.014801\n",
      "5491   -0.013178\n",
      "5492   -0.011713\n",
      "5493   -0.012051\n",
      "5494   -0.010125\n",
      "5495   -0.009472\n",
      "5496   -0.009425\n",
      "5497   -0.007566\n",
      "5498   -0.007505\n",
      "5499   -0.006972\n",
      "5500   -0.005474\n",
      "5501   -0.005699\n",
      "5502   -0.004759\n",
      "5503   -0.003773\n",
      "5504   -0.003995\n",
      "Name: predicted_mean, dtype: float64\n",
      "Prediction: -0.003995, real -0.018927\n"
     ]
    },
    {
     "name": "stderr",
     "output_type": "stream",
     "text": [
      "/home/fochoa/.local/lib/python3.10/site-packages/statsmodels/base/model.py:607: ConvergenceWarning: Maximum Likelihood optimization failed to converge. Check mle_retvals\n",
      "  warnings.warn(\"Maximum Likelihood optimization failed to \"\n"
     ]
    },
    {
     "name": "stdout",
     "output_type": "stream",
     "text": [
      "Prediction array :, 5486   -0.016482\n",
      "5487   -0.016277\n",
      "5488   -0.015305\n",
      "5489   -0.013295\n",
      "5490   -0.013327\n",
      "5491   -0.011881\n",
      "5492   -0.010529\n",
      "5493   -0.010524\n",
      "5494   -0.008851\n",
      "5495   -0.008143\n",
      "5496   -0.007854\n",
      "5497   -0.006255\n",
      "5498   -0.006013\n",
      "5499   -0.005362\n",
      "5500   -0.004073\n",
      "5501   -0.004049\n",
      "5502   -0.003109\n",
      "5503   -0.002245\n",
      "5504   -0.002206\n",
      "5505   -0.001142\n",
      "Name: predicted_mean, dtype: float64\n",
      "Prediction: -0.001142, real -0.013700\n"
     ]
    },
    {
     "name": "stderr",
     "output_type": "stream",
     "text": [
      "/home/fochoa/.local/lib/python3.10/site-packages/statsmodels/base/model.py:607: ConvergenceWarning: Maximum Likelihood optimization failed to converge. Check mle_retvals\n",
      "  warnings.warn(\"Maximum Likelihood optimization failed to \"\n"
     ]
    },
    {
     "name": "stdout",
     "output_type": "stream",
     "text": [
      "Prediction array :, 5487   -0.015436\n",
      "5488   -0.013851\n",
      "5489   -0.011731\n",
      "5490   -0.012960\n",
      "5491   -0.010820\n",
      "5492   -0.009640\n",
      "5493   -0.010332\n",
      "5494   -0.008174\n",
      "5495   -0.007636\n",
      "5496   -0.007800\n",
      "5497   -0.005851\n",
      "5498   -0.005709\n",
      "5499   -0.005431\n",
      "5500   -0.003813\n",
      "5501   -0.003863\n",
      "5502   -0.003267\n",
      "5503   -0.002018\n",
      "5504   -0.002111\n",
      "5505   -0.001332\n",
      "5506   -0.000430\n",
      "Name: predicted_mean, dtype: float64\n",
      "Prediction: -0.000430, real -0.009495\n"
     ]
    },
    {
     "name": "stderr",
     "output_type": "stream",
     "text": [
      "/home/fochoa/.local/lib/python3.10/site-packages/statsmodels/base/model.py:607: ConvergenceWarning: Maximum Likelihood optimization failed to converge. Check mle_retvals\n",
      "  warnings.warn(\"Maximum Likelihood optimization failed to \"\n"
     ]
    },
    {
     "name": "stdout",
     "output_type": "stream",
     "text": [
      "Prediction array :, 5488   -0.008481\n",
      "5489   -0.006802\n",
      "5490   -0.007386\n",
      "5491   -0.005604\n",
      "5492   -0.004661\n",
      "5493   -0.004941\n",
      "5494   -0.003026\n",
      "5495   -0.002820\n",
      "5496   -0.002563\n",
      "5497   -0.000907\n",
      "5498   -0.001116\n",
      "5499   -0.000354\n",
      "5500    0.000811\n",
      "5501    0.000520\n",
      "5502    0.001598\n",
      "5503    0.002221\n",
      "5504    0.002101\n",
      "5505    0.003246\n",
      "5506    0.003425\n",
      "5507    0.003594\n",
      "Name: predicted_mean, dtype: float64\n",
      "Prediction: 0.003594, real -0.000097\n"
     ]
    },
    {
     "name": "stderr",
     "output_type": "stream",
     "text": [
      "/home/fochoa/.local/lib/python3.10/site-packages/statsmodels/base/model.py:607: ConvergenceWarning: Maximum Likelihood optimization failed to converge. Check mle_retvals\n",
      "  warnings.warn(\"Maximum Likelihood optimization failed to \"\n"
     ]
    },
    {
     "name": "stdout",
     "output_type": "stream",
     "text": [
      "Prediction array :, 5489    0.000601\n",
      "5490   -0.000555\n",
      "5491    0.000247\n",
      "5492    0.001216\n",
      "5493    0.000556\n",
      "5494    0.001574\n",
      "5495    0.002020\n",
      "5496    0.001581\n",
      "5497    0.002691\n",
      "5498    0.002692\n",
      "5499    0.002582\n",
      "5500    0.003576\n",
      "5501    0.003299\n",
      "5502    0.003516\n",
      "5503    0.004257\n",
      "5504    0.003881\n",
      "5505    0.004344\n",
      "5506    0.004777\n",
      "5507    0.004451\n",
      "5508    0.005040\n",
      "Name: predicted_mean, dtype: float64\n",
      "Prediction: 0.005040, real 0.016474\n"
     ]
    },
    {
     "name": "stderr",
     "output_type": "stream",
     "text": [
      "/home/fochoa/.local/lib/python3.10/site-packages/statsmodels/base/model.py:607: ConvergenceWarning: Maximum Likelihood optimization failed to converge. Check mle_retvals\n",
      "  warnings.warn(\"Maximum Likelihood optimization failed to \"\n"
     ]
    },
    {
     "name": "stdout",
     "output_type": "stream",
     "text": [
      "Prediction array :, 5490    0.013402\n",
      "5491    0.014325\n",
      "5492    0.013264\n",
      "5493    0.012999\n",
      "5494    0.013587\n",
      "5495    0.012590\n",
      "5496    0.012504\n",
      "5497    0.012871\n",
      "5498    0.011955\n",
      "5499    0.011993\n",
      "5500    0.012172\n",
      "5501    0.011361\n",
      "5502    0.011474\n",
      "5503    0.011500\n",
      "5504    0.010804\n",
      "5505    0.010954\n",
      "5506    0.010861\n",
      "5507    0.010281\n",
      "5508    0.010439\n",
      "5509    0.010261\n",
      "Name: predicted_mean, dtype: float64\n",
      "Prediction: 0.010261, real 0.011922\n"
     ]
    },
    {
     "name": "stderr",
     "output_type": "stream",
     "text": [
      "/home/fochoa/.local/lib/python3.10/site-packages/statsmodels/base/model.py:607: ConvergenceWarning: Maximum Likelihood optimization failed to converge. Check mle_retvals\n",
      "  warnings.warn(\"Maximum Likelihood optimization failed to \"\n"
     ]
    },
    {
     "name": "stdout",
     "output_type": "stream",
     "text": [
      "Prediction array :, 5491    0.012270\n",
      "5492    0.012228\n",
      "5493    0.011292\n",
      "5494    0.012541\n",
      "5495    0.011575\n",
      "5496    0.011440\n",
      "5497    0.012269\n",
      "5498    0.011130\n",
      "5499    0.011570\n",
      "5500    0.011826\n",
      "5501    0.010865\n",
      "5502    0.011593\n",
      "5503    0.011316\n",
      "5504    0.010752\n",
      "5505    0.011462\n",
      "5506    0.010837\n",
      "5507    0.010719\n",
      "5508    0.011185\n",
      "5509    0.010455\n",
      "5510    0.010689\n",
      "Name: predicted_mean, dtype: float64\n",
      "Prediction: 0.010689, real 0.013383\n"
     ]
    },
    {
     "name": "stderr",
     "output_type": "stream",
     "text": [
      "/home/fochoa/.local/lib/python3.10/site-packages/statsmodels/base/model.py:607: ConvergenceWarning: Maximum Likelihood optimization failed to converge. Check mle_retvals\n",
      "  warnings.warn(\"Maximum Likelihood optimization failed to \"\n"
     ]
    },
    {
     "name": "stdout",
     "output_type": "stream",
     "text": [
      "Prediction array :, 5492    0.012954\n",
      "5493    0.011515\n",
      "5494    0.012992\n",
      "5495    0.011787\n",
      "5496    0.011219\n",
      "5497    0.012219\n",
      "5498    0.010846\n",
      "5499    0.010873\n",
      "5500    0.011329\n",
      "5501    0.010077\n",
      "5502    0.010441\n",
      "5503    0.010409\n",
      "5504    0.009443\n",
      "5505    0.009912\n",
      "5506    0.009528\n",
      "5507    0.008900\n",
      "5508    0.009302\n",
      "5509    0.008727\n",
      "5510    0.008405\n",
      "5511    0.008644\n",
      "Name: predicted_mean, dtype: float64\n",
      "Prediction: 0.008644, real -0.001889\n"
     ]
    },
    {
     "name": "stderr",
     "output_type": "stream",
     "text": [
      "/home/fochoa/.local/lib/python3.10/site-packages/statsmodels/base/model.py:607: ConvergenceWarning: Maximum Likelihood optimization failed to converge. Check mle_retvals\n",
      "  warnings.warn(\"Maximum Likelihood optimization failed to \"\n"
     ]
    },
    {
     "name": "stdout",
     "output_type": "stream",
     "text": [
      "Prediction array :, 5493   -0.001606\n",
      "5494    0.000156\n",
      "5495    0.000091\n",
      "5496    0.000667\n",
      "5497    0.001201\n",
      "5498    0.001318\n",
      "5499    0.001905\n",
      "5500    0.002237\n",
      "5501    0.002405\n",
      "5502    0.002962\n",
      "5503    0.003131\n",
      "5504    0.003384\n",
      "5505    0.003841\n",
      "5506    0.003919\n",
      "5507    0.004244\n",
      "5508    0.004565\n",
      "5509    0.004625\n",
      "5510    0.004978\n",
      "5511    0.005164\n",
      "5512    0.005256\n",
      "Name: predicted_mean, dtype: float64\n",
      "Prediction: 0.005256, real 0.002592\n"
     ]
    },
    {
     "name": "stderr",
     "output_type": "stream",
     "text": [
      "/home/fochoa/.local/lib/python3.10/site-packages/statsmodels/base/model.py:607: ConvergenceWarning: Maximum Likelihood optimization failed to converge. Check mle_retvals\n",
      "  warnings.warn(\"Maximum Likelihood optimization failed to \"\n"
     ]
    },
    {
     "name": "stdout",
     "output_type": "stream",
     "text": [
      "Prediction array :, 5494    0.004563\n",
      "5495    0.004651\n",
      "5496    0.004082\n",
      "5497    0.004875\n",
      "5498    0.005255\n",
      "5499    0.004743\n",
      "5500    0.005657\n",
      "5501    0.005643\n",
      "5502    0.005420\n",
      "5503    0.006253\n",
      "5504    0.005991\n",
      "5505    0.006056\n",
      "5506    0.006693\n",
      "5507    0.006330\n",
      "5508    0.006620\n",
      "5509    0.007013\n",
      "5510    0.006674\n",
      "5511    0.007093\n",
      "5512    0.007250\n",
      "5513    0.007019\n",
      "Name: predicted_mean, dtype: float64\n",
      "Prediction: 0.007019, real 0.003185\n"
     ]
    },
    {
     "name": "stderr",
     "output_type": "stream",
     "text": [
      "/home/fochoa/.local/lib/python3.10/site-packages/statsmodels/base/model.py:607: ConvergenceWarning: Maximum Likelihood optimization failed to converge. Check mle_retvals\n",
      "  warnings.warn(\"Maximum Likelihood optimization failed to \"\n"
     ]
    },
    {
     "name": "stdout",
     "output_type": "stream",
     "text": [
      "Prediction array :, 5495    0.003043\n",
      "5496    0.003493\n",
      "5497    0.003917\n",
      "5498    0.004170\n",
      "5499    0.004468\n",
      "5500    0.004846\n",
      "5501    0.005029\n",
      "5502    0.005340\n",
      "5503    0.005625\n",
      "5504    0.005782\n",
      "5505    0.006082\n",
      "5506    0.006281\n",
      "5507    0.006438\n",
      "5508    0.006704\n",
      "5509    0.006836\n",
      "5510    0.007003\n",
      "5511    0.007216\n",
      "5512    0.007308\n",
      "5513    0.007480\n",
      "5514    0.007633\n",
      "Name: predicted_mean, dtype: float64\n",
      "Prediction: 0.007633, real -0.011120\n"
     ]
    },
    {
     "name": "stderr",
     "output_type": "stream",
     "text": [
      "/home/fochoa/.local/lib/python3.10/site-packages/statsmodels/base/model.py:607: ConvergenceWarning: Maximum Likelihood optimization failed to converge. Check mle_retvals\n",
      "  warnings.warn(\"Maximum Likelihood optimization failed to \"\n"
     ]
    },
    {
     "name": "stdout",
     "output_type": "stream",
     "text": [
      "Prediction array :, 5496   -0.009374\n",
      "5497   -0.008302\n",
      "5498   -0.007213\n",
      "5499   -0.006276\n",
      "5500   -0.006048\n",
      "5501   -0.004725\n",
      "5502   -0.004255\n",
      "5503   -0.003803\n",
      "5504   -0.002641\n",
      "5505   -0.002438\n",
      "5506   -0.001767\n",
      "5507   -0.000887\n",
      "5508   -0.000776\n",
      "5509    0.000031\n",
      "5510    0.000595\n",
      "5511    0.000755\n",
      "5512    0.001574\n",
      "5513    0.001870\n",
      "5514    0.002154\n",
      "5515    0.002868\n",
      "Name: predicted_mean, dtype: float64\n",
      "Prediction: 0.002868, real -0.016167\n"
     ]
    },
    {
     "name": "stderr",
     "output_type": "stream",
     "text": [
      "/home/fochoa/.local/lib/python3.10/site-packages/statsmodels/base/model.py:607: ConvergenceWarning: Maximum Likelihood optimization failed to converge. Check mle_retvals\n",
      "  warnings.warn(\"Maximum Likelihood optimization failed to \"\n"
     ]
    },
    {
     "name": "stdout",
     "output_type": "stream",
     "text": [
      "Prediction array :, 5497   -0.014505\n",
      "5498   -0.013131\n",
      "5499   -0.011802\n",
      "5500   -0.011313\n",
      "5501   -0.010078\n",
      "5502   -0.009081\n",
      "5503   -0.008592\n",
      "5504   -0.007357\n",
      "5505   -0.006702\n",
      "5506   -0.006105\n",
      "5507   -0.005006\n",
      "5508   -0.004582\n",
      "5509   -0.003865\n",
      "5510   -0.002990\n",
      "5511   -0.002670\n",
      "5512   -0.001883\n",
      "5513   -0.001258\n",
      "5514   -0.000937\n",
      "5515   -0.000165\n",
      "5516    0.000244\n",
      "Name: predicted_mean, dtype: float64\n",
      "Prediction: 0.000244, real -0.017295\n"
     ]
    },
    {
     "name": "stderr",
     "output_type": "stream",
     "text": [
      "/home/fochoa/.local/lib/python3.10/site-packages/statsmodels/base/model.py:607: ConvergenceWarning: Maximum Likelihood optimization failed to converge. Check mle_retvals\n",
      "  warnings.warn(\"Maximum Likelihood optimization failed to \"\n"
     ]
    },
    {
     "name": "stdout",
     "output_type": "stream",
     "text": [
      "Prediction array :, 5498   -0.015601\n",
      "5499   -0.014419\n",
      "5500   -0.013258\n",
      "5501   -0.011870\n",
      "5502   -0.010981\n",
      "5503   -0.009806\n",
      "5504   -0.008672\n",
      "5505   -0.007876\n",
      "5506   -0.006757\n",
      "5507   -0.005854\n",
      "5508   -0.005099\n",
      "5509   -0.004085\n",
      "5510   -0.003368\n",
      "5511   -0.002631\n",
      "5512   -0.001758\n",
      "5513   -0.001174\n",
      "5514   -0.000459\n",
      "5515    0.000259\n",
      "5516    0.000761\n",
      "5517    0.001434\n",
      "Name: predicted_mean, dtype: float64\n",
      "Prediction: 0.001434, real -0.002853\n"
     ]
    },
    {
     "name": "stderr",
     "output_type": "stream",
     "text": [
      "/home/fochoa/.local/lib/python3.10/site-packages/statsmodels/base/model.py:607: ConvergenceWarning: Maximum Likelihood optimization failed to converge. Check mle_retvals\n",
      "  warnings.warn(\"Maximum Likelihood optimization failed to \"\n"
     ]
    },
    {
     "name": "stdout",
     "output_type": "stream",
     "text": [
      "Prediction array :, 5499   -0.002598\n",
      "5500   -0.002695\n",
      "5501   -0.002156\n",
      "5502   -0.001810\n",
      "5503   -0.000938\n",
      "5504   -0.000806\n",
      "5505   -0.000257\n",
      "5506    0.000373\n",
      "5507    0.000460\n",
      "5508    0.001093\n",
      "5509    0.001481\n",
      "5510    0.001621\n",
      "5511    0.002241\n",
      "5512    0.002434\n",
      "5513    0.002673\n",
      "5514    0.003196\n",
      "5515    0.003275\n",
      "5516    0.003606\n",
      "5517    0.003983\n",
      "5518    0.004030\n",
      "Name: predicted_mean, dtype: float64\n",
      "Prediction: 0.004030, real 0.004962\n"
     ]
    },
    {
     "name": "stderr",
     "output_type": "stream",
     "text": [
      "/home/fochoa/.local/lib/python3.10/site-packages/statsmodels/base/model.py:607: ConvergenceWarning: Maximum Likelihood optimization failed to converge. Check mle_retvals\n",
      "  warnings.warn(\"Maximum Likelihood optimization failed to \"\n"
     ]
    },
    {
     "name": "stdout",
     "output_type": "stream",
     "text": [
      "Prediction array :, 5500    0.004251\n",
      "5501    0.004488\n",
      "5502    0.004349\n",
      "5503    0.004807\n",
      "5504    0.005113\n",
      "5505    0.004966\n",
      "5506    0.005506\n",
      "5507    0.005559\n",
      "5508    0.005563\n",
      "5509    0.006043\n",
      "5510    0.005937\n",
      "5511    0.006104\n",
      "5512    0.006436\n",
      "5513    0.006282\n",
      "5514    0.006564\n",
      "5515    0.006717\n",
      "5516    0.006609\n",
      "5517    0.006924\n",
      "5518    0.006923\n",
      "5519    0.006912\n",
      "Name: predicted_mean, dtype: float64\n",
      "Prediction: 0.006912, real 0.024987\n"
     ]
    },
    {
     "name": "stderr",
     "output_type": "stream",
     "text": [
      "/home/fochoa/.local/lib/python3.10/site-packages/statsmodels/base/model.py:607: ConvergenceWarning: Maximum Likelihood optimization failed to converge. Check mle_retvals\n",
      "  warnings.warn(\"Maximum Likelihood optimization failed to \"\n"
     ]
    },
    {
     "name": "stdout",
     "output_type": "stream",
     "text": [
      "Prediction array :, 5501    0.023318\n",
      "5502    0.022202\n",
      "5503    0.021517\n",
      "5504    0.020790\n",
      "5505    0.020985\n",
      "5506    0.019846\n",
      "5507    0.019628\n",
      "5508    0.019506\n",
      "5509    0.018456\n",
      "5510    0.018522\n",
      "5511    0.018074\n",
      "5512    0.017282\n",
      "5513    0.017430\n",
      "5514    0.016746\n",
      "5515    0.016277\n",
      "5516    0.016336\n",
      "5517    0.015565\n",
      "5518    0.015383\n",
      "5519    0.015254\n",
      "5520    0.014547\n",
      "Name: predicted_mean, dtype: float64\n",
      "Prediction: 0.014547, real 0.012879\n"
     ]
    },
    {
     "name": "stderr",
     "output_type": "stream",
     "text": [
      "/home/fochoa/.local/lib/python3.10/site-packages/statsmodels/base/model.py:607: ConvergenceWarning: Maximum Likelihood optimization failed to converge. Check mle_retvals\n",
      "  warnings.warn(\"Maximum Likelihood optimization failed to \"\n"
     ]
    },
    {
     "name": "stdout",
     "output_type": "stream",
     "text": [
      "Prediction array :, 5502    0.012832\n",
      "5503    0.012654\n",
      "5504    0.012667\n",
      "5505    0.013355\n",
      "5506    0.012194\n",
      "5507    0.012903\n",
      "5508    0.012908\n",
      "5509    0.012078\n",
      "5510    0.012946\n",
      "5511    0.012428\n",
      "5512    0.012093\n",
      "5513    0.012797\n",
      "5514    0.012012\n",
      "5515    0.012149\n",
      "5516    0.012488\n",
      "5517    0.011717\n",
      "5518    0.012161\n",
      "5519    0.012087\n",
      "5520    0.011547\n",
      "5521    0.012072\n",
      "Name: predicted_mean, dtype: float64\n",
      "Prediction: 0.012072, real 0.034231\n"
     ]
    },
    {
     "name": "stderr",
     "output_type": "stream",
     "text": [
      "/home/fochoa/.local/lib/python3.10/site-packages/statsmodels/base/model.py:607: ConvergenceWarning: Maximum Likelihood optimization failed to converge. Check mle_retvals\n",
      "  warnings.warn(\"Maximum Likelihood optimization failed to \"\n"
     ]
    },
    {
     "name": "stdout",
     "output_type": "stream",
     "text": [
      "Prediction array :, 5503    0.033476\n",
      "5504    0.033146\n",
      "5505    0.028645\n",
      "5506    0.029063\n",
      "5507    0.029590\n",
      "5508    0.025444\n",
      "5509    0.026570\n",
      "5510    0.025861\n",
      "5511    0.022762\n",
      "5512    0.023968\n",
      "5513    0.022485\n",
      "5514    0.020390\n",
      "5515    0.021347\n",
      "5516    0.019492\n",
      "5517    0.018234\n",
      "5518    0.018786\n",
      "5519    0.016878\n",
      "5520    0.016236\n",
      "5521    0.016354\n",
      "5522    0.014609\n",
      "Name: predicted_mean, dtype: float64\n",
      "Prediction: 0.014609, real 0.055508\n"
     ]
    },
    {
     "name": "stderr",
     "output_type": "stream",
     "text": [
      "/home/fochoa/.local/lib/python3.10/site-packages/statsmodels/base/model.py:607: ConvergenceWarning: Maximum Likelihood optimization failed to converge. Check mle_retvals\n",
      "  warnings.warn(\"Maximum Likelihood optimization failed to \"\n"
     ]
    },
    {
     "name": "stdout",
     "output_type": "stream",
     "text": [
      "Prediction array :, 5504    0.051938\n",
      "5505    0.049694\n",
      "5506    0.045967\n",
      "5507    0.045576\n",
      "5508    0.043792\n",
      "5509    0.040650\n",
      "5510    0.040711\n",
      "5511    0.038220\n",
      "5512    0.036154\n",
      "5513    0.036072\n",
      "5514    0.033315\n",
      "5515    0.032232\n",
      "5516    0.031683\n",
      "5517    0.029100\n",
      "5518    0.028708\n",
      "5519    0.027606\n",
      "5520    0.025528\n",
      "5521    0.025451\n",
      "5522    0.023921\n",
      "5523    0.022497\n",
      "Name: predicted_mean, dtype: float64\n",
      "Prediction: 0.022497, real 0.051029\n"
     ]
    },
    {
     "name": "stderr",
     "output_type": "stream",
     "text": [
      "/home/fochoa/.local/lib/python3.10/site-packages/statsmodels/base/model.py:607: ConvergenceWarning: Maximum Likelihood optimization failed to converge. Check mle_retvals\n",
      "  warnings.warn(\"Maximum Likelihood optimization failed to \"\n"
     ]
    },
    {
     "name": "stdout",
     "output_type": "stream",
     "text": [
      "Prediction array :, 5505    0.049535\n",
      "5506    0.046070\n",
      "5507    0.045898\n",
      "5508    0.044497\n",
      "5509    0.041461\n",
      "5510    0.041787\n",
      "5511    0.039539\n",
      "5512    0.037558\n",
      "5513    0.037730\n",
      "5514    0.035100\n",
      "5515    0.034118\n",
      "5516    0.033769\n",
      "5517    0.031243\n",
      "5518    0.030969\n",
      "5519    0.029996\n",
      "5520    0.027946\n",
      "5521    0.027990\n",
      "5522    0.026517\n",
      "5523    0.025124\n",
      "5524    0.025124\n",
      "Name: predicted_mean, dtype: float64\n",
      "Prediction: 0.025124, real 0.051661\n"
     ]
    },
    {
     "name": "stderr",
     "output_type": "stream",
     "text": [
      "/home/fochoa/.local/lib/python3.10/site-packages/statsmodels/base/model.py:607: ConvergenceWarning: Maximum Likelihood optimization failed to converge. Check mle_retvals\n",
      "  warnings.warn(\"Maximum Likelihood optimization failed to \"\n"
     ]
    },
    {
     "name": "stdout",
     "output_type": "stream",
     "text": [
      "Prediction array :, 5506    0.047944\n",
      "5507    0.047921\n",
      "5508    0.046373\n",
      "5509    0.043262\n",
      "5510    0.043809\n",
      "5511    0.041292\n",
      "5512    0.039425\n",
      "5513    0.039679\n",
      "5514    0.036800\n",
      "5515    0.036051\n",
      "5516    0.035617\n",
      "5517    0.032960\n",
      "5518    0.032932\n",
      "5519    0.031749\n",
      "5520    0.029728\n",
      "5521    0.029933\n",
      "5522    0.028215\n",
      "5523    0.026986\n",
      "5524    0.027008\n",
      "5525    0.025110\n",
      "Name: predicted_mean, dtype: float64\n",
      "Prediction: 0.025110, real 0.048489\n"
     ]
    },
    {
     "name": "stderr",
     "output_type": "stream",
     "text": [
      "/home/fochoa/.local/lib/python3.10/site-packages/statsmodels/base/model.py:607: ConvergenceWarning: Maximum Likelihood optimization failed to converge. Check mle_retvals\n",
      "  warnings.warn(\"Maximum Likelihood optimization failed to \"\n"
     ]
    },
    {
     "name": "stdout",
     "output_type": "stream",
     "text": [
      "Prediction array :, 5507    0.048175\n",
      "5508    0.046478\n",
      "5509    0.043090\n",
      "5510    0.043503\n",
      "5511    0.040910\n",
      "5512    0.038753\n",
      "5513    0.038970\n",
      "5514    0.035993\n",
      "5515    0.034980\n",
      "5516    0.034596\n",
      "5517    0.031781\n",
      "5518    0.031565\n",
      "5519    0.030476\n",
      "5520    0.028233\n",
      "5521    0.028361\n",
      "5522    0.026721\n",
      "5523    0.025240\n",
      "5524    0.025301\n",
      "5525    0.023415\n",
      "5526    0.022659\n",
      "Name: predicted_mean, dtype: float64\n",
      "Prediction: 0.022659, real 0.087053\n"
     ]
    },
    {
     "name": "stderr",
     "output_type": "stream",
     "text": [
      "/home/fochoa/.local/lib/python3.10/site-packages/statsmodels/base/model.py:607: ConvergenceWarning: Maximum Likelihood optimization failed to converge. Check mle_retvals\n",
      "  warnings.warn(\"Maximum Likelihood optimization failed to \"\n"
     ]
    },
    {
     "name": "stdout",
     "output_type": "stream",
     "text": [
      "Prediction array :, 5508    0.082576\n",
      "5509    0.078053\n",
      "5510    0.076152\n",
      "5511    0.071840\n",
      "5512    0.070452\n",
      "5513    0.067433\n",
      "5514    0.064147\n",
      "5515    0.062907\n",
      "5516    0.059601\n",
      "5517    0.057263\n",
      "5518    0.055825\n",
      "5519    0.052616\n",
      "5520    0.051033\n",
      "5521    0.049244\n",
      "5522    0.046456\n",
      "5523    0.045316\n",
      "5524    0.043229\n",
      "5525    0.041035\n",
      "5526    0.040031\n",
      "5527    0.037830\n",
      "Name: predicted_mean, dtype: float64\n",
      "Prediction: 0.037830, real 0.065911\n"
     ]
    },
    {
     "name": "stderr",
     "output_type": "stream",
     "text": [
      "/home/fochoa/.local/lib/python3.10/site-packages/statsmodels/base/model.py:607: ConvergenceWarning: Maximum Likelihood optimization failed to converge. Check mle_retvals\n",
      "  warnings.warn(\"Maximum Likelihood optimization failed to \"\n"
     ]
    },
    {
     "name": "stdout",
     "output_type": "stream",
     "text": [
      "Prediction array :, 5509    0.062741\n",
      "5510    0.061301\n",
      "5511    0.058207\n",
      "5512    0.057305\n",
      "5513    0.054013\n",
      "5514    0.052204\n",
      "5515    0.050851\n",
      "5516    0.047803\n",
      "5517    0.046624\n",
      "5518    0.044858\n",
      "5519    0.042311\n",
      "5520    0.041440\n",
      "5521    0.039381\n",
      "5522    0.037447\n",
      "5523    0.036602\n",
      "5524    0.034466\n",
      "5525    0.033102\n",
      "5526    0.032111\n",
      "5527    0.030116\n",
      "5528    0.029176\n",
      "Name: predicted_mean, dtype: float64\n",
      "Prediction: 0.029176, real 0.064397\n"
     ]
    },
    {
     "name": "stderr",
     "output_type": "stream",
     "text": [
      "/home/fochoa/.local/lib/python3.10/site-packages/statsmodels/base/model.py:607: ConvergenceWarning: Maximum Likelihood optimization failed to converge. Check mle_retvals\n",
      "  warnings.warn(\"Maximum Likelihood optimization failed to \"\n"
     ]
    },
    {
     "name": "stdout",
     "output_type": "stream",
     "text": [
      "Prediction array :, 5510    0.062876\n",
      "5511    0.059552\n",
      "5512    0.058528\n",
      "5513    0.055003\n",
      "5514    0.053230\n",
      "5515    0.051677\n",
      "5516    0.048518\n",
      "5517    0.047360\n",
      "5518    0.045398\n",
      "5519    0.042831\n",
      "5520    0.041943\n",
      "5521    0.039728\n",
      "5522    0.037829\n",
      "5523    0.036929\n",
      "5524    0.034694\n",
      "5525    0.033385\n",
      "5526    0.032313\n",
      "5527    0.030282\n",
      "5528    0.029387\n",
      "5529    0.028116\n",
      "Name: predicted_mean, dtype: float64\n",
      "Prediction: 0.028116, real 0.072999\n"
     ]
    },
    {
     "name": "stderr",
     "output_type": "stream",
     "text": [
      "/home/fochoa/.local/lib/python3.10/site-packages/statsmodels/base/model.py:607: ConvergenceWarning: Maximum Likelihood optimization failed to converge. Check mle_retvals\n",
      "  warnings.warn(\"Maximum Likelihood optimization failed to \"\n"
     ]
    },
    {
     "name": "stdout",
     "output_type": "stream",
     "text": [
      "Prediction array :, 5511    0.068755\n",
      "5512    0.067233\n",
      "5513    0.063048\n",
      "5514    0.060776\n",
      "5515    0.059327\n",
      "5516    0.055305\n",
      "5517    0.054015\n",
      "5518    0.051932\n",
      "5519    0.048620\n",
      "5520    0.047793\n",
      "5521    0.045248\n",
      "5522    0.042817\n",
      "5523    0.042027\n",
      "5524    0.039328\n",
      "5525    0.037723\n",
      "5526    0.036700\n",
      "5527    0.034173\n",
      "5528    0.033177\n",
      "5529    0.031839\n",
      "5530    0.029726\n",
      "Name: predicted_mean, dtype: float64\n",
      "Prediction: 0.029726, real 0.051683\n"
     ]
    },
    {
     "name": "stderr",
     "output_type": "stream",
     "text": [
      "/home/fochoa/.local/lib/python3.10/site-packages/statsmodels/base/model.py:607: ConvergenceWarning: Maximum Likelihood optimization failed to converge. Check mle_retvals\n",
      "  warnings.warn(\"Maximum Likelihood optimization failed to \"\n"
     ]
    },
    {
     "name": "stdout",
     "output_type": "stream",
     "text": [
      "Prediction array :, 5512    0.052575\n",
      "5513    0.048940\n",
      "5514    0.051832\n",
      "5515    0.049389\n",
      "5516    0.045884\n",
      "5517    0.048552\n",
      "5518    0.045160\n",
      "5519    0.043323\n",
      "5520    0.044981\n",
      "5521    0.041439\n",
      "5522    0.040772\n",
      "5523    0.041399\n",
      "5524    0.038164\n",
      "5525    0.038201\n",
      "5526    0.037946\n",
      "5527    0.035271\n",
      "5528    0.035619\n",
      "5529    0.034720\n",
      "5530    0.032688\n",
      "5531    0.033060\n",
      "Name: predicted_mean, dtype: float64\n",
      "Prediction: 0.033060, real 0.041955\n"
     ]
    },
    {
     "name": "stderr",
     "output_type": "stream",
     "text": [
      "/home/fochoa/.local/lib/python3.10/site-packages/statsmodels/base/model.py:607: ConvergenceWarning: Maximum Likelihood optimization failed to converge. Check mle_retvals\n",
      "  warnings.warn(\"Maximum Likelihood optimization failed to \"\n"
     ]
    },
    {
     "name": "stdout",
     "output_type": "stream",
     "text": [
      "Prediction array :, 5513    0.039607\n",
      "5514    0.039016\n",
      "5515    0.038896\n",
      "5516    0.035070\n",
      "5517    0.035176\n",
      "5518    0.034009\n",
      "5519    0.030977\n",
      "5520    0.031546\n",
      "5521    0.029492\n",
      "5522    0.027550\n",
      "5523    0.027976\n",
      "5524    0.025504\n",
      "5525    0.024592\n",
      "5526    0.024501\n",
      "5527    0.022103\n",
      "5528    0.021928\n",
      "5529    0.021211\n",
      "5530    0.019261\n",
      "5531    0.019434\n",
      "5532    0.018207\n",
      "Name: predicted_mean, dtype: float64\n",
      "Prediction: 0.018207, real 0.039015\n"
     ]
    },
    {
     "name": "stderr",
     "output_type": "stream",
     "text": [
      "/home/fochoa/.local/lib/python3.10/site-packages/statsmodels/base/model.py:607: ConvergenceWarning: Maximum Likelihood optimization failed to converge. Check mle_retvals\n",
      "  warnings.warn(\"Maximum Likelihood optimization failed to \"\n"
     ]
    },
    {
     "name": "stdout",
     "output_type": "stream",
     "text": [
      "Prediction array :, 5514    0.038530\n",
      "5515    0.038616\n",
      "5516    0.034936\n",
      "5517    0.035146\n",
      "5518    0.034124\n",
      "5519    0.031218\n",
      "5520    0.031884\n",
      "5521    0.029959\n",
      "5522    0.028121\n",
      "5523    0.028640\n",
      "5524    0.026279\n",
      "5525    0.025456\n",
      "5526    0.025449\n",
      "5527    0.023145\n",
      "5528    0.023047\n",
      "5529    0.022405\n",
      "5530    0.020537\n",
      "5531    0.020775\n",
      "5532    0.019614\n",
      "5533    0.018368\n",
      "Name: predicted_mean, dtype: float64\n",
      "Prediction: 0.018368, real 0.032623\n"
     ]
    },
    {
     "name": "stderr",
     "output_type": "stream",
     "text": [
      "/home/fochoa/.local/lib/python3.10/site-packages/statsmodels/base/model.py:607: ConvergenceWarning: Maximum Likelihood optimization failed to converge. Check mle_retvals\n",
      "  warnings.warn(\"Maximum Likelihood optimization failed to \"\n"
     ]
    },
    {
     "name": "stdout",
     "output_type": "stream",
     "text": [
      "Prediction array :, 5515    0.032573\n",
      "5516    0.028973\n",
      "5517    0.029538\n",
      "5518    0.028007\n",
      "5519    0.024986\n",
      "5520    0.025869\n",
      "5521    0.023538\n",
      "5522    0.021678\n",
      "5523    0.022279\n",
      "5524    0.019640\n",
      "5525    0.018789\n",
      "5526    0.018839\n",
      "5527    0.016320\n",
      "5528    0.016183\n",
      "5529    0.015623\n",
      "5530    0.013536\n",
      "5531    0.013767\n",
      "5532    0.012705\n",
      "5533    0.011206\n",
      "5534    0.011494\n",
      "Name: predicted_mean, dtype: float64\n",
      "Prediction: 0.011494, real 0.046287\n"
     ]
    },
    {
     "name": "stderr",
     "output_type": "stream",
     "text": [
      "/home/fochoa/.local/lib/python3.10/site-packages/statsmodels/base/model.py:607: ConvergenceWarning: Maximum Likelihood optimization failed to converge. Check mle_retvals\n",
      "  warnings.warn(\"Maximum Likelihood optimization failed to \"\n"
     ]
    },
    {
     "name": "stdout",
     "output_type": "stream",
     "text": [
      "Prediction array :, 5516    0.041732\n",
      "5517    0.041647\n",
      "5518    0.040076\n",
      "5519    0.036369\n",
      "5520    0.037625\n",
      "5521    0.034642\n",
      "5522    0.032615\n",
      "5523    0.033377\n",
      "5524    0.029967\n",
      "5525    0.029348\n",
      "5526    0.029183\n",
      "5527    0.026070\n",
      "5528    0.026332\n",
      "5529    0.025209\n",
      "5530    0.022878\n",
      "5531    0.023421\n",
      "5532    0.021617\n",
      "5533    0.020242\n",
      "5534    0.020572\n",
      "5535    0.018515\n",
      "Name: predicted_mean, dtype: float64\n",
      "Prediction: 0.018515, real 0.043598\n"
     ]
    },
    {
     "name": "stderr",
     "output_type": "stream",
     "text": [
      "/home/fochoa/.local/lib/python3.10/site-packages/statsmodels/base/model.py:607: ConvergenceWarning: Maximum Likelihood optimization failed to converge. Check mle_retvals\n",
      "  warnings.warn(\"Maximum Likelihood optimization failed to \"\n"
     ]
    },
    {
     "name": "stdout",
     "output_type": "stream",
     "text": [
      "Prediction array :, 5517    0.043405\n",
      "5518    0.041763\n",
      "5519    0.038066\n",
      "5520    0.039286\n",
      "5521    0.036367\n",
      "5522    0.034290\n",
      "5523    0.035060\n",
      "5524    0.031700\n",
      "5525    0.031012\n",
      "5526    0.030896\n",
      "5527    0.027797\n",
      "5528    0.028001\n",
      "5529    0.026951\n",
      "5530    0.024592\n",
      "5531    0.025107\n",
      "5532    0.023376\n",
      "5533    0.021941\n",
      "5534    0.022285\n",
      "5535    0.020276\n",
      "5536    0.019675\n",
      "Name: predicted_mean, dtype: float64\n",
      "Prediction: 0.019675, real 0.045582\n"
     ]
    },
    {
     "name": "stderr",
     "output_type": "stream",
     "text": [
      "/home/fochoa/.local/lib/python3.10/site-packages/statsmodels/base/model.py:607: ConvergenceWarning: Maximum Likelihood optimization failed to converge. Check mle_retvals\n",
      "  warnings.warn(\"Maximum Likelihood optimization failed to \"\n"
     ]
    },
    {
     "name": "stdout",
     "output_type": "stream",
     "text": [
      "Prediction array :, 5518    0.043553\n",
      "5519    0.039917\n",
      "5520    0.041087\n",
      "5521    0.038016\n",
      "5522    0.036133\n",
      "5523    0.036753\n",
      "5524    0.033389\n",
      "5525    0.032817\n",
      "5526    0.032563\n",
      "5527    0.029542\n",
      "5528    0.029778\n",
      "5529    0.028647\n",
      "5530    0.026388\n",
      "5531    0.026881\n",
      "5532    0.025136\n",
      "5533    0.023778\n",
      "5534    0.024085\n",
      "5535    0.022109\n",
      "5536    0.021547\n",
      "5537    0.021417\n",
      "Name: predicted_mean, dtype: float64\n",
      "Prediction: 0.021417, real 0.042529\n"
     ]
    },
    {
     "name": "stderr",
     "output_type": "stream",
     "text": [
      "/home/fochoa/.local/lib/python3.10/site-packages/statsmodels/base/model.py:607: ConvergenceWarning: Maximum Likelihood optimization failed to converge. Check mle_retvals\n",
      "  warnings.warn(\"Maximum Likelihood optimization failed to \"\n"
     ]
    },
    {
     "name": "stdout",
     "output_type": "stream",
     "text": [
      "Prediction array :, 5519    0.039064\n",
      "5520    0.040129\n",
      "5521    0.037161\n",
      "5522    0.035334\n",
      "5523    0.035782\n",
      "5524    0.032562\n",
      "5525    0.031941\n",
      "5526    0.031566\n",
      "5527    0.028674\n",
      "5528    0.028793\n",
      "5529    0.027601\n",
      "5530    0.025431\n",
      "5531    0.025771\n",
      "5532    0.024019\n",
      "5533    0.022695\n",
      "5534    0.022847\n",
      "5535    0.020904\n",
      "5536    0.020318\n",
      "5537    0.020056\n",
      "5538    0.018272\n",
      "Name: predicted_mean, dtype: float64\n",
      "Prediction: 0.018272, real 0.040804\n"
     ]
    },
    {
     "name": "stderr",
     "output_type": "stream",
     "text": [
      "/home/fochoa/.local/lib/python3.10/site-packages/statsmodels/base/model.py:607: ConvergenceWarning: Maximum Likelihood optimization failed to converge. Check mle_retvals\n",
      "  warnings.warn(\"Maximum Likelihood optimization failed to \"\n"
     ]
    },
    {
     "name": "stdout",
     "output_type": "stream",
     "text": [
      "Prediction array :, 5520    0.042097\n",
      "5521    0.038766\n",
      "5522    0.036906\n",
      "5523    0.037534\n",
      "5524    0.034053\n",
      "5525    0.033501\n",
      "5526    0.033166\n",
      "5527    0.030052\n",
      "5528    0.030298\n",
      "5529    0.029017\n",
      "5530    0.026719\n",
      "5531    0.027168\n",
      "5532    0.025256\n",
      "5533    0.023900\n",
      "5534    0.024093\n",
      "5535    0.021982\n",
      "5536    0.021429\n",
      "5537    0.021129\n",
      "5538    0.019217\n",
      "5539    0.019168\n",
      "Name: predicted_mean, dtype: float64\n",
      "Prediction: 0.019168, real 0.036073\n"
     ]
    },
    {
     "name": "stderr",
     "output_type": "stream",
     "text": [
      "/home/fochoa/.local/lib/python3.10/site-packages/statsmodels/base/model.py:607: ConvergenceWarning: Maximum Likelihood optimization failed to converge. Check mle_retvals\n",
      "  warnings.warn(\"Maximum Likelihood optimization failed to \"\n"
     ]
    },
    {
     "name": "stdout",
     "output_type": "stream",
     "text": [
      "Prediction array :, 5521    0.033473\n",
      "5522    0.031599\n",
      "5523    0.032241\n",
      "5524    0.029192\n",
      "5525    0.028238\n",
      "5526    0.028254\n",
      "5527    0.025306\n",
      "5528    0.025277\n",
      "5529    0.024460\n",
      "5530    0.022107\n",
      "5531    0.022486\n",
      "5532    0.021008\n",
      "5533    0.019470\n",
      "5534    0.019801\n",
      "5535    0.017995\n",
      "5536    0.017244\n",
      "5537    0.017230\n",
      "5538    0.015457\n",
      "5539    0.015287\n",
      "5540    0.014827\n",
      "Name: predicted_mean, dtype: float64\n",
      "Prediction: 0.014827, real 0.056388\n"
     ]
    },
    {
     "name": "stderr",
     "output_type": "stream",
     "text": [
      "/home/fochoa/.local/lib/python3.10/site-packages/statsmodels/base/model.py:607: ConvergenceWarning: Maximum Likelihood optimization failed to converge. Check mle_retvals\n",
      "  warnings.warn(\"Maximum Likelihood optimization failed to \"\n"
     ]
    },
    {
     "name": "stdout",
     "output_type": "stream",
     "text": [
      "Prediction array :, 5522    0.053128\n",
      "5523    0.052265\n",
      "5524    0.044594\n",
      "5525    0.045496\n",
      "5526    0.043235\n",
      "5527    0.037278\n",
      "5528    0.038325\n",
      "5529    0.035379\n",
      "5530    0.030908\n",
      "5531    0.031820\n",
      "5532    0.028555\n",
      "5533    0.025343\n",
      "5534    0.025954\n",
      "5535    0.022663\n",
      "5536    0.020460\n",
      "5537    0.020707\n",
      "5538    0.017597\n",
      "5539    0.016162\n",
      "5540    0.016051\n",
      "5541    0.013257\n",
      "Name: predicted_mean, dtype: float64\n",
      "Prediction: 0.013257, real 0.075604\n"
     ]
    },
    {
     "name": "stderr",
     "output_type": "stream",
     "text": [
      "/home/fochoa/.local/lib/python3.10/site-packages/statsmodels/base/model.py:607: ConvergenceWarning: Maximum Likelihood optimization failed to converge. Check mle_retvals\n",
      "  warnings.warn(\"Maximum Likelihood optimization failed to \"\n"
     ]
    },
    {
     "name": "stdout",
     "output_type": "stream",
     "text": [
      "Prediction array :, 5523    0.073142\n",
      "5524    0.067396\n",
      "5525    0.064087\n",
      "5526    0.063584\n",
      "5527    0.058874\n",
      "5528    0.056787\n",
      "5529    0.055611\n",
      "5530    0.051198\n",
      "5531    0.050180\n",
      "5532    0.048177\n",
      "5533    0.044557\n",
      "5534    0.044041\n",
      "5535    0.041418\n",
      "5536    0.038797\n",
      "5537    0.038297\n",
      "5538    0.035416\n",
      "5539    0.033745\n",
      "5540    0.032949\n",
      "5541    0.030190\n",
      "5542    0.029238\n",
      "Name: predicted_mean, dtype: float64\n",
      "Prediction: 0.029238, real 0.078244\n"
     ]
    },
    {
     "name": "stderr",
     "output_type": "stream",
     "text": [
      "/home/fochoa/.local/lib/python3.10/site-packages/statsmodels/base/model.py:607: ConvergenceWarning: Maximum Likelihood optimization failed to converge. Check mle_retvals\n",
      "  warnings.warn(\"Maximum Likelihood optimization failed to \"\n"
     ]
    },
    {
     "name": "stdout",
     "output_type": "stream",
     "text": [
      "Prediction array :, 5524    0.072140\n",
      "5525    0.068730\n",
      "5526    0.067934\n",
      "5527    0.063111\n",
      "5528    0.061244\n",
      "5529    0.059636\n",
      "5530    0.055317\n",
      "5531    0.054370\n",
      "5532    0.051978\n",
      "5533    0.048576\n",
      "5534    0.047971\n",
      "5535    0.045075\n",
      "5536    0.042713\n",
      "5537    0.041991\n",
      "5538    0.038992\n",
      "5539    0.037536\n",
      "5540    0.036448\n",
      "5541    0.033720\n",
      "5542    0.032882\n",
      "5543    0.031393\n",
      "Name: predicted_mean, dtype: float64\n",
      "Prediction: 0.031393, real 0.081560\n"
     ]
    },
    {
     "name": "stderr",
     "output_type": "stream",
     "text": [
      "/home/fochoa/.local/lib/python3.10/site-packages/statsmodels/base/model.py:607: ConvergenceWarning: Maximum Likelihood optimization failed to converge. Check mle_retvals\n",
      "  warnings.warn(\"Maximum Likelihood optimization failed to \"\n"
     ]
    },
    {
     "name": "stdout",
     "output_type": "stream",
     "text": [
      "Prediction array :, 5525    0.079657\n",
      "5526    0.078372\n",
      "5527    0.070957\n",
      "5528    0.071053\n",
      "5529    0.069038\n",
      "5530    0.063091\n",
      "5531    0.063563\n",
      "5532    0.060922\n",
      "5533    0.056369\n",
      "5534    0.056886\n",
      "5535    0.053938\n",
      "5536    0.050585\n",
      "5537    0.050955\n",
      "5538    0.047954\n",
      "5539    0.045580\n",
      "5540    0.045706\n",
      "5541    0.042841\n",
      "5542    0.041228\n",
      "5543    0.041085\n",
      "5544    0.038480\n",
      "Name: predicted_mean, dtype: float64\n",
      "Prediction: 0.038480, real 0.080965\n"
     ]
    },
    {
     "name": "stderr",
     "output_type": "stream",
     "text": [
      "/home/fochoa/.local/lib/python3.10/site-packages/statsmodels/base/model.py:607: ConvergenceWarning: Maximum Likelihood optimization failed to converge. Check mle_retvals\n",
      "  warnings.warn(\"Maximum Likelihood optimization failed to \"\n"
     ]
    },
    {
     "name": "stdout",
     "output_type": "stream",
     "text": [
      "Prediction array :, 5526    0.078914\n",
      "5527    0.070870\n",
      "5528    0.070625\n",
      "5529    0.067773\n",
      "5530    0.061376\n",
      "5531    0.061431\n",
      "5532    0.058178\n",
      "5533    0.053213\n",
      "5534    0.053320\n",
      "5535    0.049927\n",
      "5536    0.046174\n",
      "5537    0.046184\n",
      "5538    0.042854\n",
      "5539    0.040087\n",
      "5540    0.039924\n",
      "5541    0.036801\n",
      "5542    0.034809\n",
      "5543    0.034453\n",
      "5544    0.031630\n",
      "5545    0.030224\n",
      "Name: predicted_mean, dtype: float64\n",
      "Prediction: 0.030224, real 0.081003\n"
     ]
    },
    {
     "name": "stderr",
     "output_type": "stream",
     "text": [
      "/home/fochoa/.local/lib/python3.10/site-packages/statsmodels/base/model.py:607: ConvergenceWarning: Maximum Likelihood optimization failed to converge. Check mle_retvals\n",
      "  warnings.warn(\"Maximum Likelihood optimization failed to \"\n"
     ]
    },
    {
     "name": "stdout",
     "output_type": "stream",
     "text": [
      "Prediction array :, 5527    0.075212\n",
      "5528    0.072944\n",
      "5529    0.071223\n",
      "5530    0.066197\n",
      "5531    0.065142\n",
      "5532    0.062604\n",
      "5533    0.058652\n",
      "5534    0.058095\n",
      "5535    0.055020\n",
      "5536    0.052263\n",
      "5537    0.051691\n",
      "5538    0.048473\n",
      "5539    0.046781\n",
      "5540    0.045888\n",
      "5541    0.042911\n",
      "5542    0.041992\n",
      "5543    0.040688\n",
      "5544    0.038227\n",
      "5545    0.037736\n",
      "5546    0.036106\n",
      "Name: predicted_mean, dtype: float64\n",
      "Prediction: 0.036106, real 0.045044\n"
     ]
    },
    {
     "name": "stderr",
     "output_type": "stream",
     "text": [
      "/home/fochoa/.local/lib/python3.10/site-packages/statsmodels/base/model.py:607: ConvergenceWarning: Maximum Likelihood optimization failed to converge. Check mle_retvals\n",
      "  warnings.warn(\"Maximum Likelihood optimization failed to \"\n"
     ]
    },
    {
     "name": "stdout",
     "output_type": "stream",
     "text": [
      "Prediction array :, 5528    0.047302\n",
      "5529    0.045404\n",
      "5530    0.042706\n",
      "5531    0.041345\n",
      "5532    0.039720\n",
      "5533    0.037345\n",
      "5534    0.036200\n",
      "5535    0.034602\n",
      "5536    0.032593\n",
      "5537    0.031593\n",
      "5538    0.030066\n",
      "5539    0.028383\n",
      "5540    0.027490\n",
      "5541    0.026062\n",
      "5542    0.024664\n",
      "5543    0.023853\n",
      "5544    0.022546\n",
      "5545    0.021390\n",
      "5546    0.020647\n",
      "5547    0.019472\n",
      "Name: predicted_mean, dtype: float64\n",
      "Prediction: 0.019472, real 0.047432\n"
     ]
    },
    {
     "name": "stderr",
     "output_type": "stream",
     "text": [
      "/home/fochoa/.local/lib/python3.10/site-packages/statsmodels/base/model.py:607: ConvergenceWarning: Maximum Likelihood optimization failed to converge. Check mle_retvals\n",
      "  warnings.warn(\"Maximum Likelihood optimization failed to \"\n"
     ]
    },
    {
     "name": "stdout",
     "output_type": "stream",
     "text": [
      "Prediction array :, 5529    0.044542\n",
      "5530    0.040091\n",
      "5531    0.037782\n",
      "5532    0.034074\n",
      "5533    0.030605\n",
      "5534    0.028250\n",
      "5535    0.024756\n",
      "5536    0.021818\n",
      "5537    0.019513\n",
      "5538    0.016304\n",
      "5539    0.013814\n",
      "5540    0.011575\n",
      "5541    0.008713\n",
      "5542    0.006586\n",
      "5543    0.004450\n",
      "5544    0.001958\n",
      "5545    0.000125\n",
      "5546   -0.001870\n",
      "5547   -0.003996\n",
      "5548   -0.005587\n",
      "Name: predicted_mean, dtype: float64\n",
      "Prediction: -0.005587, real 0.039859\n"
     ]
    },
    {
     "name": "stderr",
     "output_type": "stream",
     "text": [
      "/home/fochoa/.local/lib/python3.10/site-packages/statsmodels/base/model.py:607: ConvergenceWarning: Maximum Likelihood optimization failed to converge. Check mle_retvals\n",
      "  warnings.warn(\"Maximum Likelihood optimization failed to \"\n"
     ]
    },
    {
     "name": "stdout",
     "output_type": "stream",
     "text": [
      "Prediction array :, 5530    0.036253\n",
      "5531    0.036779\n",
      "5532    0.034669\n",
      "5533    0.032118\n",
      "5534    0.031321\n",
      "5535    0.029365\n",
      "5536    0.027270\n",
      "5537    0.026474\n",
      "5538    0.024470\n",
      "5539    0.022859\n",
      "5540    0.021972\n",
      "5541    0.020079\n",
      "5542    0.018842\n",
      "5543    0.017865\n",
      "5544    0.016180\n",
      "5545    0.015209\n",
      "5546    0.014178\n",
      "5547    0.012748\n",
      "5548    0.011955\n",
      "5549    0.010924\n",
      "Name: predicted_mean, dtype: float64\n",
      "Prediction: 0.010924, real 0.055556\n"
     ]
    },
    {
     "name": "stderr",
     "output_type": "stream",
     "text": [
      "/home/fochoa/.local/lib/python3.10/site-packages/statsmodels/base/model.py:607: ConvergenceWarning: Maximum Likelihood optimization failed to converge. Check mle_retvals\n",
      "  warnings.warn(\"Maximum Likelihood optimization failed to \"\n"
     ]
    },
    {
     "name": "stdout",
     "output_type": "stream",
     "text": [
      "Prediction array :, 5531    0.053720\n",
      "5532    0.050129\n",
      "5533    0.047664\n",
      "5534    0.045869\n",
      "5535    0.043696\n",
      "5536    0.041384\n",
      "5537    0.039887\n",
      "5538    0.037736\n",
      "5539    0.035896\n",
      "5540    0.034484\n",
      "5541    0.032483\n",
      "5542    0.031039\n",
      "5543    0.029642\n",
      "5544    0.027885\n",
      "5545    0.026724\n",
      "5546    0.025338\n",
      "5547    0.023877\n",
      "5548    0.022886\n",
      "5549    0.021552\n",
      "5550    0.020384\n",
      "Name: predicted_mean, dtype: float64\n",
      "Prediction: 0.020384, real 0.053156\n"
     ]
    },
    {
     "name": "stderr",
     "output_type": "stream",
     "text": [
      "/home/fochoa/.local/lib/python3.10/site-packages/statsmodels/base/model.py:607: ConvergenceWarning: Maximum Likelihood optimization failed to converge. Check mle_retvals\n",
      "  warnings.warn(\"Maximum Likelihood optimization failed to \"\n"
     ]
    },
    {
     "name": "stdout",
     "output_type": "stream",
     "text": [
      "Prediction array :, 5532    0.049668\n",
      "5533    0.047256\n",
      "5534    0.045519\n",
      "5535    0.043395\n",
      "5536    0.041122\n",
      "5537    0.039693\n",
      "5538    0.037585\n",
      "5539    0.035797\n",
      "5540    0.034452\n",
      "5541    0.032492\n",
      "5542    0.031108\n",
      "5543    0.029772\n",
      "5544    0.028058\n",
      "5545    0.026962\n",
      "5546    0.025627\n",
      "5547    0.024211\n",
      "5548    0.023285\n",
      "5549    0.021993\n",
      "5550    0.020876\n",
      "5551    0.020028\n",
      "Name: predicted_mean, dtype: float64\n",
      "Prediction: 0.020028, real 0.073317\n"
     ]
    },
    {
     "name": "stderr",
     "output_type": "stream",
     "text": [
      "/home/fochoa/.local/lib/python3.10/site-packages/statsmodels/base/model.py:607: ConvergenceWarning: Maximum Likelihood optimization failed to converge. Check mle_retvals\n",
      "  warnings.warn(\"Maximum Likelihood optimization failed to \"\n"
     ]
    },
    {
     "name": "stdout",
     "output_type": "stream",
     "text": [
      "Prediction array :, 5533    0.068540\n",
      "5534    0.065705\n",
      "5535    0.061976\n",
      "5536    0.058572\n",
      "5537    0.057337\n",
      "5538    0.053146\n",
      "5539    0.051064\n",
      "5540    0.049332\n",
      "5541    0.045571\n",
      "5542    0.044314\n",
      "5543    0.042065\n",
      "5544    0.039069\n",
      "5545    0.038169\n",
      "5546    0.035601\n",
      "5547    0.033470\n",
      "5548    0.032549\n",
      "5549    0.029968\n",
      "5550    0.028590\n",
      "5551    0.027439\n",
      "5552    0.025137\n",
      "Name: predicted_mean, dtype: float64\n",
      "Prediction: 0.025137, real 0.088143\n",
      "Prediction array :, 5534    0.084348\n",
      "5535    0.079009\n",
      "5536    0.074463\n",
      "5537    0.074225\n",
      "5538    0.069734\n",
      "5539    0.066033\n",
      "5540    0.065407\n",
      "5541    0.060928\n",
      "5542    0.058145\n",
      "5543    0.057048\n",
      "5544    0.052845\n",
      "5545    0.050735\n",
      "5546    0.049240\n",
      "5547    0.045459\n",
      "5548    0.043815\n",
      "5549    0.042032\n",
      "5550    0.038743\n",
      "5551    0.037399\n",
      "5552    0.035448\n",
      "5553    0.032664\n",
      "Name: predicted_mean, dtype: float64\n",
      "Prediction: 0.032664, real 0.112357\n"
     ]
    },
    {
     "name": "stderr",
     "output_type": "stream",
     "text": [
      "/home/fochoa/.local/lib/python3.10/site-packages/statsmodels/base/model.py:607: ConvergenceWarning: Maximum Likelihood optimization failed to converge. Check mle_retvals\n",
      "  warnings.warn(\"Maximum Likelihood optimization failed to \"\n"
     ]
    }
   ],
   "source": [
    "# p, q = best_params\n",
    "p = 5\n",
    "q = 5\n",
    "print('p:', p, 'q:', q)\n",
    "\n",
    "LMCADY_test_orig = LMCADY_test.copy()\n",
    "\n",
    "LMCADY_test = LMCADY_test.shift(-window)\n",
    "LMCADY_test.dropna(inplace=True)\n",
    "\n",
    "LMCADY_predictions = evaluate_arima_model(LMCADY_train, LMCADY_test_orig, p, q)\n"
   ]
  },
  {
   "cell_type": "code",
   "execution_count": 63,
   "metadata": {},
   "outputs": [],
   "source": [
    "LMCADY_predictions = LMCADY_predictions[:-window]\n",
    "LMCADY_rmse = calculate_rmse(LMCADY_predictions, LMCADY_test)"
   ]
  },
  {
   "cell_type": "code",
   "execution_count": 64,
   "metadata": {},
   "outputs": [],
   "source": [
    "def plot_predictions(test_series, predictions, title, best_lags = \"\", markersize=3):\n",
    "    plt.figure(figsize=(14, 3))\n",
    "\n",
    "    plt.plot(test_series.index, test_series, label=\"Actual\", marker='o', linestyle='-', markersize=markersize)\n",
    "    plt.plot(test_series.index, predictions, label=\"Predicted\", marker='x', linestyle='--', markersize=markersize)\n",
    "    plt.axhline(y=0, color='gray', linestyle='--', linewidth=0.7)\n",
    "\n",
    "\n",
    "    plt.title(f\"ARMA Model: {title}\")\n",
    "    plt.legend()\n",
    "    plt.show()"
   ]
  },
  {
   "cell_type": "code",
   "execution_count": 65,
   "metadata": {},
   "outputs": [
    {
     "data": {
      "text/plain": [
       "0.04738723281432963"
      ]
     },
     "execution_count": 65,
     "metadata": {},
     "output_type": "execute_result"
    }
   ],
   "source": [
    "LMCADY_rmse"
   ]
  },
  {
   "cell_type": "code",
   "execution_count": 66,
   "metadata": {},
   "outputs": [
    {
     "data": {
      "text/plain": [
       "0.022240983010212483"
      ]
     },
     "execution_count": 66,
     "metadata": {},
     "output_type": "execute_result"
    }
   ],
   "source": [
    "LMCADY_test.describe()['std']"
   ]
  },
  {
   "cell_type": "code",
   "execution_count": 67,
   "metadata": {},
   "outputs": [
    {
     "data": {
      "image/png": "[encoded data removed]",
      "text/plain": [
       "<Figure size 1400x300 with 1 Axes>"
      ]
     },
     "metadata": {},
     "output_type": "display_data"
    }
   ],
   "source": [
    "plot_predictions(LMCADY_test, LMCADY_predictions, \"LMCADY_acu_{}d - RMSE: {:.5f}\".format(window, LMCADY_rmse))"
   ]
  }
 ],
 "metadata": {
  "kernelspec": {
   "display_name": "Python 3",
   "language": "python",
   "name": "python3"
  },
  "language_info": {
   "codemirror_mode": {
    "name": "ipython",
    "version": 3
   },
   "file_extension": ".py",
   "mimetype": "text/x-python",
   "name": "python",
   "nbconvert_exporter": "python",
   "pygments_lexer": "ipython3",
   "version": "3.10.12"
  }
 },
 "nbformat": 4,
 "nbformat_minor": 2
}
