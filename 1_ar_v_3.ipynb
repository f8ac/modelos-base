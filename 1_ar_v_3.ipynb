{
  "cells": [
    {
      "cell_type": "code",
      "execution_count": 29,
      "metadata": {
        "id": "0_ksTW-N0hSs"
      },
      "outputs": [],
      "source": [
        "import numpy as np\n",
        "import pandas as pd\n",
        "import matplotlib.pyplot as plt\n",
        "from sklearn.metrics import mean_squared_error\n",
        "from sklearn.model_selection import train_test_split\n",
        "from statsmodels.tsa.ar_model import AutoReg"
      ]
    },
    {
      "cell_type": "code",
      "execution_count": 30,
      "metadata": {
        "colab": {
          "base_uri": "https://localhost:8080/",
          "height": 423
        },
        "id": "cuTy9Wzb0CmX",
        "outputId": "380af154-65eb-48fb-b6c0-e3979dc48f92"
      },
      "outputs": [
        {
          "data": {
            "text/plain": [
              "0       0.081352\n",
              "1       0.075898\n",
              "2       0.068538\n",
              "3       0.055772\n",
              "4       0.046443\n",
              "          ...   \n",
              "5530    0.055556\n",
              "5531    0.053156\n",
              "5532    0.073317\n",
              "5533    0.088143\n",
              "5534    0.112357\n",
              "Name: LMCADY_acu_20d_log, Length: 5535, dtype: float64"
            ]
          },
          "execution_count": 30,
          "metadata": {},
          "output_type": "execute_result"
        }
      ],
      "source": [
        "window = 20\n",
        "file_path = './in/copper_log_returns_{}d_final.csv'.format(window)\n",
        "targ = 'LMCADY_acu_{}d_log'.format(window)\n",
        "\n",
        "df = pd.read_csv(file_path, parse_dates=True)\n",
        "\n",
        "df = df.sort_values(by='Date')\n",
        "\n",
        "time_series = df[targ]\n",
        "\n",
        "time_series"
      ]
    },
    {
      "cell_type": "code",
      "execution_count": 31,
      "metadata": {
        "id": "XL4VYrdo2Ry7"
      },
      "outputs": [
        {
          "data": {
            "text/plain": [
              "0       0.081352\n",
              "1       0.075898\n",
              "2       0.068538\n",
              "3       0.055772\n",
              "4       0.046443\n",
              "          ...   \n",
              "5363   -0.023912\n",
              "5364   -0.036150\n",
              "5365   -0.056180\n",
              "5366   -0.021553\n",
              "5367   -0.002801\n",
              "Name: LMCADY_acu_20d_log, Length: 5368, dtype: float64"
            ]
          },
          "execution_count": 31,
          "metadata": {},
          "output_type": "execute_result"
        }
      ],
      "source": [
        "LMCADY_train, LMCADY_test = train_test_split(time_series, test_size=0.03, shuffle=False)\n",
        "LMCADY_train"
      ]
    },
    {
      "cell_type": "code",
      "execution_count": 32,
      "metadata": {
        "colab": {
          "base_uri": "https://localhost:8080/"
        },
        "id": "0aAP79IK2a3o",
        "outputId": "dc5b9cfb-506a-41e1-dd61-5cefcedef33b"
      },
      "outputs": [
        {
          "name": "stdout",
          "output_type": "stream",
          "text": [
            "5368   -0.019559\n",
            "5369   -0.005176\n",
            "5370    0.000135\n",
            "5371    0.021388\n",
            "5372   -0.000539\n",
            "Name: LMCADY_acu_20d_log, dtype: float64\n"
          ]
        },
        {
          "data": {
            "text/plain": [
              "5530    0.055556\n",
              "5531    0.053156\n",
              "5532    0.073317\n",
              "5533    0.088143\n",
              "5534    0.112357\n",
              "Name: LMCADY_acu_20d_log, dtype: float64"
            ]
          },
          "execution_count": 32,
          "metadata": {},
          "output_type": "execute_result"
        }
      ],
      "source": [
        "print(LMCADY_test.head())\n",
        "LMCADY_test.tail()"
      ]
    },
    {
      "cell_type": "code",
      "execution_count": 33,
      "metadata": {
        "id": "XUKGB2nM3arG"
      },
      "outputs": [],
      "source": [
        "def evaluate_ar_model(train_series, test_series, lags=5):\n",
        "\n",
        "    if not isinstance(train_series.index, pd.DatetimeIndex):\n",
        "        train_series.index = pd.RangeIndex(start=0, stop=len(train_series))\n",
        "\n",
        "    predictions = []\n",
        "\n",
        "    current_train = train_series.copy()\n",
        "    for actual in test_series:\n",
        "        if len(current_train) <= lags:\n",
        "            print(f\"No hay suficientes observaciones para {lags} lags. Terminando el ciclo.\")\n",
        "            break\n",
        "\n",
        "        model = AutoReg(current_train, lags=lags)\n",
        "        model_fit = model.fit()\n",
        "\n",
        "        prediction = model_fit.predict(start=len(current_train), end=(len(current_train)+window-1), dynamic=False)\n",
        "\n",
        "        # print(prediction)\n",
        "\n",
        "        predictions.append(prediction.iloc[-1])\n",
        "        # print(\"pred {:.6f}, {:.6f}\".format(prediction.iloc[-1],actual))\n",
        "\n",
        "        current_train = pd.concat([current_train, pd.Series([actual], index=[len(current_train)])])\n",
        "\n",
        "    return pd.Series(predictions, index=test_series.index)"
      ]
    },
    {
      "cell_type": "code",
      "execution_count": 34,
      "metadata": {
        "id": "5DPSnKg4P6pR"
      },
      "outputs": [],
      "source": [
        "def calculate_rmse(predictions, actual):\n",
        "\n",
        "    # Asegurarse de que las series sean de igual longitud\n",
        "    if len(predictions) != len(actual):\n",
        "        raise ValueError(\"Las predicciones y los valores reales deben tener la misma longitud.\")\n",
        "\n",
        "    # Calcular el RMSE\n",
        "    mse = mean_squared_error(predictions, actual)\n",
        "    rmse = np.sqrt(mse)\n",
        "    return rmse"
      ]
    },
    {
      "cell_type": "code",
      "execution_count": 35,
      "metadata": {
        "colab": {
          "base_uri": "https://localhost:8080/"
        },
        "id": "6Z_WUHaT3sEF",
        "outputId": "7a6275e0-65ee-43b4-9acb-4ad01392ebd4"
      },
      "outputs": [
        {
          "name": "stdout",
          "output_type": "stream",
          "text": [
            "AR> RMSE 1 lags: 0.036887\n",
            "AR> RMSE 2 lags: 0.037058\n",
            "AR> RMSE 3 lags: 0.037030\n",
            "AR> RMSE 4 lags: 0.036938\n",
            "AR> RMSE 5 lags: 0.036785\n",
            "AR> RMSE 6 lags: 0.036617\n",
            "AR> RMSE 7 lags: 0.036626\n",
            "AR> RMSE 8 lags: 0.036439\n",
            "AR> RMSE 9 lags: 0.036341\n",
            "AR> RMSE 10 lags: 0.036262\n",
            "AR> RMSE 11 lags: 0.036089\n",
            "AR> RMSE 12 lags: 0.036009\n",
            "AR> RMSE 13 lags: 0.035876\n",
            "AR> RMSE 14 lags: 0.035858\n",
            "AR> RMSE 15 lags: 0.035651\n",
            "AR> RMSE 16 lags: 0.035596\n",
            "AR> RMSE 17 lags: 0.035513\n",
            "AR> RMSE 18 lags: 0.035449\n",
            "AR> RMSE 19 lags: 0.035338\n",
            "AR> RMSE 20 lags: 0.035280\n",
            "AR> RMSE 21 lags: 0.038845\n",
            "AR> RMSE 22 lags: 0.039093\n",
            "AR> RMSE 23 lags: 0.039253\n",
            "AR> RMSE 24 lags: 0.039270\n",
            "AR> RMSE 25 lags: 0.039216\n",
            "AR> RMSE 26 lags: 0.039296\n",
            "AR> RMSE 27 lags: 0.039297\n",
            "AR> RMSE 28 lags: 0.039040\n",
            "AR> RMSE 29 lags: 0.038601\n",
            "AR> RMSE 30 lags: 0.038624\n",
            "AR> RMSE 31 lags: 0.038340\n",
            "AR> RMSE 32 lags: 0.038094\n",
            "AR> RMSE 33 lags: 0.037713\n",
            "AR> RMSE 34 lags: 0.037736\n",
            "AR> RMSE 35 lags: 0.037622\n",
            "AR> RMSE 36 lags: 0.037573\n",
            "AR> RMSE 37 lags: 0.037469\n",
            "AR> RMSE 38 lags: 0.037381\n",
            "AR> RMSE 39 lags: 0.037325\n",
            "AR> RMSE 40 lags: 0.037315\n",
            "AR> RMSE 41 lags: 0.037864\n",
            "AR> RMSE 42 lags: 0.037829\n",
            "AR> RMSE 43 lags: 0.037755\n",
            "AR> RMSE 44 lags: 0.037855\n",
            "AR> RMSE 45 lags: 0.037818\n",
            "AR> RMSE 46 lags: 0.037803\n",
            "AR> RMSE 47 lags: 0.037820\n",
            "AR> RMSE 48 lags: 0.037935\n",
            "AR> RMSE 49 lags: 0.037891\n",
            "AR> RMSE 50 lags: 0.037951\n",
            "AR> RMSE 51 lags: 0.037889\n",
            "AR> RMSE 52 lags: 0.038000\n",
            "AR> RMSE 53 lags: 0.038079\n",
            "AR> RMSE 54 lags: 0.038091\n",
            "AR> RMSE 55 lags: 0.038238\n",
            "AR> RMSE 56 lags: 0.038542\n",
            "AR> RMSE 57 lags: 0.038689\n",
            "AR> RMSE 58 lags: 0.038940\n",
            "AR> RMSE 59 lags: 0.039329\n",
            "AR> RMSE 60 lags: 0.039923\n",
            "AR> RMSE 61 lags: 0.037682\n",
            "AR> RMSE 62 lags: 0.037650\n",
            "AR> RMSE 63 lags: 0.037751\n",
            "AR> RMSE 64 lags: 0.037788\n",
            "AR> RMSE 65 lags: 0.037860\n",
            "AR> RMSE 66 lags: 0.038083\n",
            "AR> RMSE 67 lags: 0.037976\n",
            "AR> RMSE 68 lags: 0.038004\n",
            "AR> RMSE 69 lags: 0.038184\n",
            "AR> RMSE 70 lags: 0.038736\n",
            "AR> RMSE 71 lags: 0.038774\n",
            "AR> RMSE 72 lags: 0.038965\n",
            "AR> RMSE 73 lags: 0.039349\n",
            "AR> RMSE 74 lags: 0.039861\n",
            "AR> RMSE 75 lags: 0.039912\n",
            "AR> RMSE 76 lags: 0.040141\n",
            "AR> RMSE 77 lags: 0.040149\n",
            "AR> RMSE 78 lags: 0.040271\n",
            "AR> RMSE 79 lags: 0.040182\n",
            "AR> RMSE 80 lags: 0.040467\n",
            "AR> RMSE 81 lags: 0.037163\n",
            "AR> RMSE 82 lags: 0.036797\n",
            "AR> RMSE 83 lags: 0.036590\n",
            "AR> RMSE 84 lags: 0.036564\n",
            "AR> RMSE 85 lags: 0.036701\n",
            "AR> RMSE 86 lags: 0.036987\n",
            "AR> RMSE 87 lags: 0.037113\n",
            "AR> RMSE 88 lags: 0.037187\n",
            "AR> RMSE 89 lags: 0.037114\n",
            "AR> RMSE 90 lags: 0.037252\n",
            "AR> RMSE 91 lags: 0.037367\n",
            "AR> RMSE 92 lags: 0.037476\n",
            "AR> RMSE 93 lags: 0.037385\n",
            "AR> RMSE 94 lags: 0.037376\n",
            "AR> RMSE 95 lags: 0.037388\n",
            "AR> RMSE 96 lags: 0.037378\n",
            "AR> RMSE 97 lags: 0.037391\n",
            "AR> RMSE 98 lags: 0.037280\n",
            "AR> RMSE 99 lags: 0.037028\n",
            "AR> RMSE 100 lags: 0.036780\n"
          ]
        }
      ],
      "source": [
        "stop_lag = 100\n",
        "\n",
        "best_predictions = None\n",
        "best_lags = None\n",
        "best_rmse = float(\"inf\")\n",
        "\n",
        "# shift the test window values to the left and \n",
        "\n",
        "LMCADY_test_orig = LMCADY_test.copy()\n",
        "\n",
        "LMCADY_test = LMCADY_test.shift(-window)\n",
        "LMCADY_test.dropna(inplace=True)\n",
        "\n",
        "for lags in range(1,stop_lag+1,1):\n",
        "    LMCADY_predictions = evaluate_ar_model(LMCADY_train, LMCADY_test_orig, lags=lags)\n",
        "\n",
        "    LMCADY_predictions = LMCADY_predictions[:-window]\n",
        "    \n",
        "    LMCADY_rmse = calculate_rmse(LMCADY_predictions, LMCADY_test)\n",
        "    print(f\"AR> RMSE {lags} lags: {LMCADY_rmse:.6f}\")\n",
        "\n",
        "    if LMCADY_rmse < best_rmse:\n",
        "        best_rmse = LMCADY_rmse\n",
        "        best_lags = lags\n",
        "        best_predictions = LMCADY_predictions\n"
      ]
    },
    {
      "cell_type": "code",
      "execution_count": 36,
      "metadata": {
        "colab": {
          "base_uri": "https://localhost:8080/"
        },
        "id": "jWDG0wBLTKt2",
        "outputId": "fb6ce3f4-7c05-4402-95ae-9d968b1ee813"
      },
      "outputs": [
        {
          "name": "stdout",
          "output_type": "stream",
          "text": [
            "El mejor rendimiento: 20 lags, rmse = 0.035280 vs. std = 0.035978\n"
          ]
        }
      ],
      "source": [
        "std_prueba = LMCADY_test.describe()['std']\n",
        "print(\"El mejor rendimiento: {} lags, rmse = {:.6f} vs. std = {:.6f}\".format(best_lags,best_rmse,std_prueba))\n",
        "# print(\"Predicciones:\")\n",
        "# print(best_predictions)"
      ]
    },
    {
      "cell_type": "code",
      "execution_count": 37,
      "metadata": {},
      "outputs": [
        {
          "data": {
            "text/plain": [
              "5368    0.017204\n",
              "5369    0.012396\n",
              "5370    0.018457\n",
              "5371    0.021572\n",
              "5372    0.030544\n",
              "          ...   \n",
              "5510    0.022927\n",
              "5511    0.024451\n",
              "5512    0.014053\n",
              "5513    0.007111\n",
              "5514    0.005384\n",
              "Length: 147, dtype: float64"
            ]
          },
          "execution_count": 37,
          "metadata": {},
          "output_type": "execute_result"
        }
      ],
      "source": [
        "best_predictions"
      ]
    },
    {
      "cell_type": "code",
      "execution_count": 38,
      "metadata": {},
      "outputs": [
        {
          "data": {
            "text/plain": [
              "5368   -0.028660\n",
              "5369   -0.031965\n",
              "5370   -0.055969\n",
              "5371   -0.067478\n",
              "5372   -0.059616\n",
              "          ...   \n",
              "5510    0.055556\n",
              "5511    0.053156\n",
              "5512    0.073317\n",
              "5513    0.088143\n",
              "5514    0.112357\n",
              "Name: LMCADY_acu_20d_log, Length: 147, dtype: float64"
            ]
          },
          "execution_count": 38,
          "metadata": {},
          "output_type": "execute_result"
        }
      ],
      "source": [
        "LMCADY_test"
      ]
    },
    {
      "cell_type": "code",
      "execution_count": 39,
      "metadata": {},
      "outputs": [],
      "source": [
        "# # print both series side by side with both indexes\n",
        "# for i in range(len(LMCADY_test)):\n",
        "#     print(\"Pred {:.6f}, Actual {:.6f}\".format(best_predictions.iloc[i],LMCADY_test.iloc[i]))"
      ]
    },
    {
      "cell_type": "code",
      "execution_count": 40,
      "metadata": {
        "id": "RFbDNpkV361l"
      },
      "outputs": [],
      "source": [
        "def plot_predictions(test_series, predictions, title, best_lags, markersize=3):\n",
        "    plt.figure(figsize=(14, 3))\n",
        "\n",
        "    plt.plot(test_series.index, test_series, label=\"Actual\", marker='o', linestyle='-', markersize=markersize)\n",
        "    plt.plot(test_series.index, predictions, label=\"Predicted\", marker='x', linestyle='--', markersize=markersize)\n",
        "    plt.axhline(y=0, color='gray', linestyle='--', linewidth=0.7)\n",
        "\n",
        "\n",
        "    plt.title(f\"AR Model: {title} - {best_lags} lags\")\n",
        "    plt.legend()\n",
        "    plt.show()"
      ]
    },
    {
      "cell_type": "code",
      "execution_count": 41,
      "metadata": {
        "colab": {
          "base_uri": "https://localhost:8080/",
          "height": 545
        },
        "id": "i3P-ZMiPAcqy",
        "outputId": "9e0a64bf-fdc5-4e4b-c497-e6fe9532eae9"
      },
      "outputs": [
        {
          "data": {
            "image/png": "[encoded data removed]",
            "text/plain": [
              "<Figure size 1400x300 with 1 Axes>"
            ]
          },
          "metadata": {},
          "output_type": "display_data"
        }
      ],
      "source": [
        "plot_predictions(LMCADY_test, best_predictions, \"LMCADY_acu_{}d - RMSE: {:.5f}\".format(window, best_rmse), best_lags, markersize=3)"
      ]
    },
    {
      "cell_type": "code",
      "execution_count": 42,
      "metadata": {},
      "outputs": [
        {
          "data": {
            "text/plain": [
              "'0.03598 0.03528'"
            ]
          },
          "execution_count": 42,
          "metadata": {},
          "output_type": "execute_result"
        }
      ],
      "source": [
        "\"{:.5f} {:.5f}\".format(std_prueba,best_rmse)"
      ]
    }
  ],
  "metadata": {
    "colab": {
      "provenance": []
    },
    "kernelspec": {
      "display_name": "Python 3",
      "name": "python3"
    },
    "language_info": {
      "codemirror_mode": {
        "name": "ipython",
        "version": 3
      },
      "file_extension": ".py",
      "mimetype": "text/x-python",
      "name": "python",
      "nbconvert_exporter": "python",
      "pygments_lexer": "ipython3",
      "version": "3.10.12"
    }
  },
  "nbformat": 4,
  "nbformat_minor": 0
}
