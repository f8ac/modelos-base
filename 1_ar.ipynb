{
 "cells": [
  {
   "cell_type": "code",
   "execution_count": 1,
   "metadata": {},
   "outputs": [
    {
     "name": "stderr",
     "output_type": "stream",
     "text": [
      "/tmp/ipykernel_661958/4081799432.py:1: DeprecationWarning: \n",
      "Pyarrow will become a required dependency of pandas in the next major release of pandas (pandas 3.0),\n",
      "(to allow more performant data types, such as the Arrow string type, and better interoperability with other libraries)\n",
      "but was not found to be installed on your system.\n",
      "If this would cause problems for you,\n",
      "please provide us feedback at https://github.com/pandas-dev/pandas/issues/54466\n",
      "        \n",
      "  import pandas as pd\n"
     ]
    }
   ],
   "source": [
    "import pandas as pd\n",
    "from statsmodels.tsa.ar_model import AutoReg\n",
    "from sklearn.model_selection import train_test_split\n",
    "from sklearn.metrics import mean_squared_error\n",
    "import numpy as np"
   ]
  },
  {
   "cell_type": "code",
   "execution_count": 2,
   "metadata": {},
   "outputs": [
    {
     "name": "stdout",
     "output_type": "stream",
     "text": [
      "            Date  LMCADS03    LMCADY       DXY       SPX      BCOM      MXWD  \\\n",
      "0     2024-03-25  0.001241  0.001047 -0.000767  0.002808  0.006127  0.001182   \n",
      "1     2024-03-22 -0.000733 -0.000182  0.002015  0.003064 -0.005829  0.002399   \n",
      "2     2024-03-21  0.009474  0.009322 -0.004022  0.001404  0.007491  0.002585   \n",
      "3     2024-03-20 -0.002514 -0.002130 -0.005961 -0.003226 -0.001953 -0.006740   \n",
      "4     2024-03-19  0.005432  0.005893  0.004159 -0.008826  0.003441 -0.006092   \n",
      "...          ...       ...       ...       ...       ...       ...       ...   \n",
      "5534  2003-01-07 -0.009774 -0.009724  0.006872  0.014287 -0.004085  0.014765   \n",
      "5535  2003-01-06  0.004627  0.004489 -0.005850  0.006588  0.002701  0.008892   \n",
      "5536  2003-01-03 -0.010746 -0.010210  0.004903 -0.021980  0.016248 -0.018378   \n",
      "5537  2003-01-02 -0.013035 -0.013388  0.004977  0.000484 -0.014186 -0.003775   \n",
      "5538  2003-01-01 -0.018868 -0.019639 -0.010682 -0.032133 -0.025019 -0.022941   \n",
      "\n",
      "           XAU       XAG  LMCADY_acu_5d  LMCADY_std_5d  \n",
      "0    -0.003199  0.009327      -0.001010       0.001367  \n",
      "1    -0.002942 -0.000409      -0.001191       0.001363  \n",
      "2     0.007338  0.002853       0.008130       0.004511  \n",
      "3     0.002320  0.033895       0.008524       0.004423  \n",
      "4    -0.013172 -0.026096       0.013951       0.004700  \n",
      "...        ...       ...            ...            ...  \n",
      "5534 -0.018041 -0.010309      -0.026799       0.009751  \n",
      "5535  0.011519  0.020312      -0.011388       0.009986  \n",
      "5536  0.000000 -0.001531      -0.015156       0.010507  \n",
      "5537 -0.014804 -0.014724      -0.040276       0.007154  \n",
      "5538  0.005780 -0.007887      -0.048471       0.008860  \n",
      "\n",
      "[5539 rows x 11 columns]\n",
      "            Date  LMCADS03    LMCADY       DXY       SPX      BCOM      MXWD  \\\n",
      "0     2024-03-18  0.012533  0.012998 -0.002312 -0.005617  0.000882 -0.002379   \n",
      "1     2024-03-15 -0.001870 -0.001960 -0.001448 -0.006278 -0.004906 -0.005003   \n",
      "2     2024-03-14 -0.020337 -0.020656 -0.000677  0.006525 -0.001121  0.006553   \n",
      "3     2024-03-13  0.004444  0.005717 -0.005515  0.002879 -0.000875  0.003430   \n",
      "4     2024-03-12 -0.030245 -0.030878  0.001654  0.001928 -0.008158  0.000529   \n",
      "...          ...       ...       ...       ...       ...       ...       ...   \n",
      "5529  2003-01-07 -0.009774 -0.009724  0.006872  0.014287 -0.004085  0.014765   \n",
      "5530  2003-01-06  0.004627  0.004489 -0.005850  0.006588  0.002701  0.008892   \n",
      "5531  2003-01-03 -0.010746 -0.010210  0.004903 -0.021980  0.016248 -0.018378   \n",
      "5532  2003-01-02 -0.013035 -0.013388  0.004977  0.000484 -0.014186 -0.003775   \n",
      "5533  2003-01-01 -0.018868 -0.019639 -0.010682 -0.032133 -0.025019 -0.022941   \n",
      "\n",
      "           XAU       XAG  LMCADY_acu_10d  LMCADY_std_10d  \n",
      "0     0.001284  0.004917        0.024892        0.005173  \n",
      "1    -0.002064  0.005975        0.022932        0.005313  \n",
      "2     0.002918 -0.014690        0.002276        0.009023  \n",
      "3     0.005652  0.007628        0.010516        0.009120  \n",
      "4    -0.007391 -0.034447       -0.020829        0.013620  \n",
      "...        ...       ...             ...             ...  \n",
      "5529 -0.018041 -0.010309       -0.041087        0.008782  \n",
      "5530  0.011519  0.020312       -0.037645        0.009069  \n",
      "5531  0.000000 -0.001531       -0.034113        0.008699  \n",
      "5532 -0.014804 -0.014724       -0.056890        0.007922  \n",
      "5533  0.005780 -0.007887       -0.071578        0.009051  \n",
      "\n",
      "[5534 rows x 11 columns]\n",
      "            Date  LMCADS03    LMCADY       DXY       SPX      BCOM      MXWD  \\\n",
      "0     2024-03-04  0.006006  0.006566  0.000289  0.010298  0.003686  0.007605   \n",
      "1     2024-03-01 -0.004565 -0.004720  0.000289  0.001195 -0.004496 -0.000078   \n",
      "2     2024-02-29 -0.001176 -0.001723  0.002889 -0.007944 -0.005316 -0.007548   \n",
      "3     2024-02-28 -0.005298 -0.005564 -0.001728 -0.005202 -0.000449 -0.004138   \n",
      "4     2024-02-27  0.003018  0.002454 -0.001443  0.001661  0.000031  0.003390   \n",
      "...          ...       ...       ...       ...       ...       ...       ...   \n",
      "5519  2003-01-07 -0.009774 -0.009724  0.006872  0.014287 -0.004085  0.014765   \n",
      "5520  2003-01-06  0.004627  0.004489 -0.005850  0.006588  0.002701  0.008892   \n",
      "5521  2003-01-03 -0.010746 -0.010210  0.004903 -0.021980  0.016248 -0.018378   \n",
      "5522  2003-01-02 -0.013035 -0.013388  0.004977  0.000484 -0.014186 -0.003775   \n",
      "5523  2003-01-01 -0.018868 -0.019639 -0.010682 -0.032133 -0.025019 -0.022941   \n",
      "\n",
      "           XAU       XAG  LMCADY_acu_20d  LMCADY_std_20d  \n",
      "0    -0.006372  0.009104       -0.035044        0.010186  \n",
      "1    -0.014926 -0.031943       -0.039764        0.010198  \n",
      "2    -0.018541 -0.019370       -0.041487        0.010187  \n",
      "3    -0.004769 -0.009605       -0.044528        0.010217  \n",
      "4    -0.002000  0.000187       -0.042541        0.010254  \n",
      "...        ...       ...             ...             ...  \n",
      "5519 -0.018041 -0.010309       -0.054758        0.009923  \n",
      "5520  0.011519  0.020312       -0.067663        0.008913  \n",
      "5521  0.000000 -0.001531       -0.074975        0.009041  \n",
      "5522 -0.014804 -0.014724       -0.080371        0.009253  \n",
      "5523  0.005780 -0.007887       -0.076866        0.008898  \n",
      "\n",
      "[5524 rows x 11 columns]\n"
     ]
    }
   ],
   "source": [
    "df_5 = pd.read_csv('./in/copper_returns_5d_final.csv')\n",
    "df_10 = pd.read_csv('./in/copper_returns_10d_final.csv')\n",
    "df_20 = pd.read_csv('./in/copper_returns_20d_final.csv')\n",
    "\n",
    "print(df_5)\n",
    "print(df_10)\n",
    "print(df_20)"
   ]
  },
  {
   "cell_type": "code",
   "execution_count": 3,
   "metadata": {},
   "outputs": [],
   "source": [
    "df_5['Date'] = pd.to_datetime(df_5['Date'])\n",
    "df_5.set_index('Date', inplace=True)"
   ]
  },
  {
   "cell_type": "code",
   "execution_count": 4,
   "metadata": {},
   "outputs": [],
   "source": [
    "target = 'LMCADY_acu_5d'\n",
    "train_data, test_data = train_test_split(df_5[target], test_size=0.2, shuffle=False)"
   ]
  },
  {
   "cell_type": "code",
   "execution_count": 5,
   "metadata": {},
   "outputs": [
    {
     "name": "stderr",
     "output_type": "stream",
     "text": [
      "/home/fochoa/.local/lib/python3.10/site-packages/statsmodels/tsa/base/tsa_model.py:473: ValueWarning: A date index has been provided, but it has no associated frequency information and so will be ignored when e.g. forecasting.\n",
      "  self._init_dates(dates, freq)\n",
      "/home/fochoa/.local/lib/python3.10/site-packages/statsmodels/tsa/base/tsa_model.py:473: ValueWarning: A date index has been provided, but it is not monotonic and so will be ignored when e.g. forecasting.\n",
      "  self._init_dates(dates, freq)\n"
     ]
    }
   ],
   "source": [
    "model_ar = AutoReg(train_data, lags=5, old_names=False)\n",
    "model_ar_fitted = model_ar.fit()"
   ]
  },
  {
   "cell_type": "code",
   "execution_count": 6,
   "metadata": {},
   "outputs": [
    {
     "name": "stderr",
     "output_type": "stream",
     "text": [
      "/home/fochoa/.local/lib/python3.10/site-packages/statsmodels/tsa/base/tsa_model.py:836: ValueWarning: No supported index is available. Prediction results will be given with an integer index beginning at `start`.\n",
      "  return get_prediction_index(\n",
      "/home/fochoa/.local/lib/python3.10/site-packages/statsmodels/tsa/base/tsa_model.py:836: FutureWarning: No supported index is available. In the next version, calling this method in a model without a supported index will result in an exception.\n",
      "  return get_prediction_index(\n",
      "/home/fochoa/.local/lib/python3.10/site-packages/statsmodels/tsa/deterministic.py:307: UserWarning: Only PeriodIndexes, DatetimeIndexes with a frequency set, RangesIndexes, and Index with a unit increment support extending. The index is set will contain the position relative to the data length.\n",
      "  fcast_index = self._extend_index(index, steps, forecast_index)\n"
     ]
    }
   ],
   "source": [
    "predictions = model_ar_fitted.predict(start=len(train_data), end=len(train_data) + len(test_data) - 1, dynamic=False)"
   ]
  },
  {
   "cell_type": "code",
   "execution_count": 7,
   "metadata": {},
   "outputs": [],
   "source": [
    "mse = mean_squared_error(test_data, predictions)\n",
    "rmse = np.sqrt(mse)"
   ]
  },
  {
   "cell_type": "code",
   "execution_count": 8,
   "metadata": {},
   "outputs": [
    {
     "data": {
      "text/plain": [
       "(<class 'statsmodels.iolib.summary.Summary'>\n",
       " \"\"\"\n",
       "                             AutoReg Model Results                             \n",
       " ==============================================================================\n",
       " Dep. Variable:          LMCADY_acu_5d   No. Observations:                 4431\n",
       " Model:                     AutoReg(5)   Log Likelihood               10902.522\n",
       " Method:               Conditional MLE   S.D. of innovations              0.021\n",
       " Date:                Tue, 16 Apr 2024   AIC                         -21791.044\n",
       " Time:                        17:59:28   BIC                         -21746.277\n",
       " Sample:                             5   HQIC                        -21775.257\n",
       "                                  4431                                         \n",
       " ====================================================================================\n",
       "                        coef    std err          z      P>|z|      [0.025      0.975]\n",
       " ------------------------------------------------------------------------------------\n",
       " const                0.0001      0.000      0.470      0.638      -0.000       0.001\n",
       " LMCADY_acu_5d.L1     0.7672      0.015     52.193      0.000       0.738       0.796\n",
       " LMCADY_acu_5d.L2     0.0673      0.019      3.609      0.000       0.031       0.104\n",
       " LMCADY_acu_5d.L3    -0.0369      0.019     -1.979      0.048      -0.074      -0.000\n",
       " LMCADY_acu_5d.L4     0.0705      0.019      3.781      0.000       0.034       0.107\n",
       " LMCADY_acu_5d.L5    -0.2090      0.015    -14.213      0.000      -0.238      -0.180\n",
       "                                     Roots                                    \n",
       " =============================================================================\n",
       "                   Real          Imaginary           Modulus         Frequency\n",
       " -----------------------------------------------------------------------------\n",
       " AR.1            1.0992           -0.4084j            1.1727           -0.0566\n",
       " AR.2            1.0992           +0.4084j            1.1727            0.0566\n",
       " AR.3           -1.4881           -0.0000j            1.4881           -0.5000\n",
       " AR.4           -0.1865           -1.5177j            1.5291           -0.2695\n",
       " AR.5           -0.1865           +1.5177j            1.5291            0.2695\n",
       " -----------------------------------------------------------------------------\n",
       " \"\"\",\n",
       " 0.03777172058334234)"
      ]
     },
     "execution_count": 8,
     "metadata": {},
     "output_type": "execute_result"
    }
   ],
   "source": [
    "model_ar_fitted.summary(), rmse"
   ]
  }
 ],
 "metadata": {
  "kernelspec": {
   "display_name": "Python 3",
   "language": "python",
   "name": "python3"
  },
  "language_info": {
   "codemirror_mode": {
    "name": "ipython",
    "version": 3
   },
   "file_extension": ".py",
   "mimetype": "text/x-python",
   "name": "python",
   "nbconvert_exporter": "python",
   "pygments_lexer": "ipython3",
   "version": "3.10.12"
  }
 },
 "nbformat": 4,
 "nbformat_minor": 2
}
