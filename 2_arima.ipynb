{
 "cells": [
  {
   "cell_type": "code",
   "execution_count": 13,
   "metadata": {},
   "outputs": [],
   "source": [
    "import pandas as pd\n",
    "from statsmodels.tsa.arima.model import ARIMA\n",
    "from sklearn.metrics import mean_squared_error\n",
    "from sklearn.model_selection import train_test_split\n",
    "import numpy as np"
   ]
  },
  {
   "cell_type": "code",
   "execution_count": 14,
   "metadata": {},
   "outputs": [],
   "source": [
    "data = pd.read_csv('./in/copper_log_returns_5d_final.csv')\n",
    "data['Date'] = pd.to_datetime(data['Date'])\n",
    "data.set_index('Date', inplace=True)"
   ]
  },
  {
   "cell_type": "code",
   "execution_count": 15,
   "metadata": {},
   "outputs": [],
   "source": [
    "train_data, test_data = train_test_split(data['LMCADY_acu_5d_log'], test_size=0.15, shuffle=False)"
   ]
  },
  {
   "cell_type": "code",
   "execution_count": 16,
   "metadata": {},
   "outputs": [
    {
     "name": "stderr",
     "output_type": "stream",
     "text": [
      "/home/fochoa/.local/lib/python3.10/site-packages/statsmodels/tsa/base/tsa_model.py:473: ValueWarning: A date index has been provided, but it has no associated frequency information and so will be ignored when e.g. forecasting.\n",
      "  self._init_dates(dates, freq)\n",
      "/home/fochoa/.local/lib/python3.10/site-packages/statsmodels/tsa/base/tsa_model.py:473: ValueWarning: A date index has been provided, but it has no associated frequency information and so will be ignored when e.g. forecasting.\n",
      "  self._init_dates(dates, freq)\n",
      "/home/fochoa/.local/lib/python3.10/site-packages/statsmodels/tsa/base/tsa_model.py:473: ValueWarning: A date index has been provided, but it has no associated frequency information and so will be ignored when e.g. forecasting.\n",
      "  self._init_dates(dates, freq)\n",
      "/home/fochoa/.local/lib/python3.10/site-packages/statsmodels/base/model.py:607: ConvergenceWarning: Maximum Likelihood optimization failed to converge. Check mle_retvals\n",
      "  warnings.warn(\"Maximum Likelihood optimization failed to \"\n"
     ]
    }
   ],
   "source": [
    "model = ARIMA(train_data, order=(10, 0, 10))\n",
    "fitted_model = model.fit()"
   ]
  },
  {
   "cell_type": "code",
   "execution_count": 17,
   "metadata": {},
   "outputs": [
    {
     "name": "stderr",
     "output_type": "stream",
     "text": [
      "/home/fochoa/.local/lib/python3.10/site-packages/statsmodels/tsa/base/tsa_model.py:836: ValueWarning: No supported index is available. Prediction results will be given with an integer index beginning at `start`.\n",
      "  return get_prediction_index(\n",
      "/home/fochoa/.local/lib/python3.10/site-packages/statsmodels/tsa/base/tsa_model.py:836: FutureWarning: No supported index is available. In the next version, calling this method in a model without a supported index will result in an exception.\n",
      "  return get_prediction_index(\n"
     ]
    }
   ],
   "source": [
    "predictions = fitted_model.get_forecast(steps=len(test_data))\n",
    "predicted_means = predictions.predicted_mean"
   ]
  },
  {
   "cell_type": "code",
   "execution_count": 18,
   "metadata": {},
   "outputs": [],
   "source": [
    "rmse = np.sqrt(mean_squared_error(test_data, predicted_means))\n"
   ]
  },
  {
   "cell_type": "code",
   "execution_count": 19,
   "metadata": {},
   "outputs": [
    {
     "name": "stdout",
     "output_type": "stream",
     "text": [
      "                               SARIMAX Results                                \n",
      "==============================================================================\n",
      "Dep. Variable:      LMCADY_acu_5d_log   No. Observations:                 4717\n",
      "Model:               ARIMA(10, 0, 10)   Log Likelihood               12540.964\n",
      "Date:                Thu, 02 May 2024   AIC                         -25037.927\n",
      "Time:                        21:23:08   BIC                         -24895.831\n",
      "Sample:                             0   HQIC                        -24987.978\n",
      "                               - 4717                                         \n",
      "Covariance Type:                  opg                                         \n",
      "==============================================================================\n",
      "                 coef    std err          z      P>|z|      [0.025      0.975]\n",
      "------------------------------------------------------------------------------\n",
      "const          0.0013      0.001      1.087      0.277      -0.001       0.004\n",
      "ar.L1          1.0056      1.236      0.814      0.416      -1.416       3.427\n",
      "ar.L2          0.0006      2.391      0.000      1.000      -4.685       4.686\n",
      "ar.L3         -0.1135      2.270     -0.050      0.960      -4.562       4.335\n",
      "ar.L4          0.2118      2.039      0.104      0.917      -3.784       4.208\n",
      "ar.L5         -0.9377      1.686     -0.556      0.578      -4.243       2.367\n",
      "ar.L6          0.6148      0.452      1.359      0.174      -0.272       1.501\n",
      "ar.L7          0.1008      0.332      0.303      0.762      -0.551       0.752\n",
      "ar.L8         -0.0168      0.198     -0.085      0.933      -0.405       0.372\n",
      "ar.L9          0.0479      0.170      0.282      0.778      -0.285       0.381\n",
      "ar.L10        -0.0709      0.098     -0.723      0.470      -0.263       0.121\n",
      "ma.L1         -0.0562      1.236     -0.045      0.964      -2.478       2.366\n",
      "ma.L2          0.0051      1.223      0.004      0.997      -2.391       2.401\n",
      "ma.L3          0.0865      1.182      0.073      0.942      -2.230       2.403\n",
      "ma.L4         -0.0101      1.024     -0.010      0.992      -2.017       1.997\n",
      "ma.L5         -0.1578      0.966     -0.163      0.870      -2.051       1.736\n",
      "ma.L6          0.1960      1.105      0.177      0.859      -1.970       2.362\n",
      "ma.L7          0.1394      1.285      0.108      0.914      -2.379       2.658\n",
      "ma.L8          0.0599      1.054      0.057      0.955      -2.005       2.125\n",
      "ma.L9          0.1509      1.091      0.138      0.890      -1.987       2.289\n",
      "ma.L10        -0.6558      0.847     -0.774      0.439      -2.317       1.005\n",
      "sigma2         0.0003   3.61e-06     80.099      0.000       0.000       0.000\n",
      "===================================================================================\n",
      "Ljung-Box (L1) (Q):                   1.71   Jarque-Bera (JB):              3136.21\n",
      "Prob(Q):                              0.19   Prob(JB):                         0.00\n",
      "Heteroskedasticity (H):               0.36   Skew:                            -0.13\n",
      "Prob(H) (two-sided):                  0.00   Kurtosis:                         6.99\n",
      "===================================================================================\n",
      "\n",
      "Warnings:\n",
      "[1] Covariance matrix calculated using the outer product of gradients (complex-step).\n",
      "RMSE: 0.03058\n"
     ]
    }
   ],
   "source": [
    "print(fitted_model.summary())\n",
    "print(\"RMSE: {:.4}\".format(rmse))"
   ]
  }
 ],
 "metadata": {
  "kernelspec": {
   "display_name": "Python 3",
   "language": "python",
   "name": "python3"
  },
  "language_info": {
   "codemirror_mode": {
    "name": "ipython",
    "version": 3
   },
   "file_extension": ".py",
   "mimetype": "text/x-python",
   "name": "python",
   "nbconvert_exporter": "python",
   "pygments_lexer": "ipython3",
   "version": "3.10.12"
  }
 },
 "nbformat": 4,
 "nbformat_minor": 2
}
