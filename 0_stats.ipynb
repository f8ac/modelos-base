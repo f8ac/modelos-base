{
 "cells": [
  {
   "cell_type": "code",
   "execution_count": 3,
   "metadata": {},
   "outputs": [],
   "source": [
    "import pandas as pd"
   ]
  },
  {
   "cell_type": "code",
   "execution_count": 5,
   "metadata": {},
   "outputs": [
    {
     "data": {
      "text/plain": [
       "count    5539.000000\n",
       "mean       -0.000867\n",
       "std         0.034782\n",
       "min        -0.185825\n",
       "25%        -0.021102\n",
       "50%        -0.001844\n",
       "75%         0.017065\n",
       "max         0.259832\n",
       "Name: LMCADY_acu_5d, dtype: float64"
      ]
     },
     "execution_count": 5,
     "metadata": {},
     "output_type": "execute_result"
    }
   ],
   "source": [
    "file_path = './in/copper_returns_5d_final.csv'\n",
    "data = pd.read_csv(file_path)\n",
    "\n",
    "# Visualizar las primeras filas y obtener estadísticas descriptivas de la variable objetivo\n",
    "data_head = data.head()\n",
    "target_stats = data['LMCADY_acu_5d'].describe()\n",
    "target_stats"
   ]
  }
 ],
 "metadata": {
  "kernelspec": {
   "display_name": "Python 3",
   "language": "python",
   "name": "python3"
  },
  "language_info": {
   "codemirror_mode": {
    "name": "ipython",
    "version": 3
   },
   "file_extension": ".py",
   "mimetype": "text/x-python",
   "name": "python",
   "nbconvert_exporter": "python",
   "pygments_lexer": "ipython3",
   "version": "3.9.13"
  }
 },
 "nbformat": 4,
 "nbformat_minor": 2
}
